{
 "cells": [
  {
   "cell_type": "code",
   "execution_count": 8,
   "source": [
    "from tensorflow.keras.models import load_model\r\n",
    "import os"
   ],
   "outputs": [],
   "metadata": {}
  },
  {
   "cell_type": "code",
   "execution_count": 3,
   "source": [
    "model = load_model('./model/save_at_10.h5')"
   ],
   "outputs": [],
   "metadata": {}
  },
  {
   "cell_type": "code",
   "execution_count": 11,
   "source": [
    "from PIL import Image\r\n",
    "import numpy as np\r\n",
    "from skimage import transform\r\n",
    "import shutil"
   ],
   "outputs": [],
   "metadata": {}
  },
  {
   "cell_type": "code",
   "execution_count": 5,
   "source": [
    "def load(filename):\r\n",
    "    np_image = Image.open(filename)\r\n",
    "    np_image = np.array(np_image).astype('float32')\r\n",
    "    np_image = transform.resize(np_image,(180,180,3))\r\n",
    "    np_image = np.expand_dims(np_image, axis = 0)\r\n",
    "    return np_image"
   ],
   "outputs": [],
   "metadata": {}
  },
  {
   "cell_type": "code",
   "execution_count": 17,
   "source": [
    "# get path of iamges to test\r\n",
    "path_file = []\r\n",
    "path_demo = \"./demo/\"\r\n",
    "path_res = \"./res/\"\r\n",
    "for dirpath,dirnames, filenames in os.walk(path_demo):\r\n",
    "    path_file.append(filenames)\r\n",
    "    break\r\n",
    "# predict\r\n",
    "for p in path_file[0]:\r\n",
    "    image = load(path_demo + p)\r\n",
    "    result = model.predict(image)\r\n",
    "    if result < 0.5:\r\n",
    "        shutil.copyfile(path_demo + p,path_res+\"ads_\" + p)\r\n",
    "    else:\r\n",
    "        shutil.copyfile(path_demo + p,path_res+\"non_ads_\" + p)"
   ],
   "outputs": [],
   "metadata": {}
  },
  {
   "cell_type": "code",
   "execution_count": null,
   "source": [],
   "outputs": [],
   "metadata": {}
  }
 ],
 "metadata": {
  "orig_nbformat": 4,
  "language_info": {
   "name": "python",
   "version": "3.8.8",
   "mimetype": "text/x-python",
   "codemirror_mode": {
    "name": "ipython",
    "version": 3
   },
   "pygments_lexer": "ipython3",
   "nbconvert_exporter": "python",
   "file_extension": ".py"
  },
  "kernelspec": {
   "name": "python3",
   "display_name": "Python 3.8.8 64-bit ('base': conda)"
  },
  "interpreter": {
   "hash": "183bbf6827d058c2a2fb0f4acdc0420849dda2b4380af0e437e38c64d798d8b7"
  }
 },
 "nbformat": 4,
 "nbformat_minor": 2
}