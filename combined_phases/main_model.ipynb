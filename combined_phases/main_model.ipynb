{
 "cells": [
  {
   "cell_type": "markdown",
   "source": [
    "## Phase 1:\r\n",
    "-   CTPN\r\n",
    "-   SVN"
   ],
   "metadata": {}
  },
  {
   "cell_type": "markdown",
   "source": [
    "### Load file path"
   ],
   "metadata": {}
  },
  {
   "cell_type": "code",
   "execution_count": 69,
   "source": [
    "from os import walk\r\n",
    "import numpy as np\r\n",
    "import matplotlib.pyplot as plt\r\n",
    "import PIL\r\n",
    "from sklearn.model_selection import train_test_split"
   ],
   "outputs": [],
   "metadata": {}
  },
  {
   "cell_type": "code",
   "execution_count": 70,
   "source": [
    "# get link of ads and non ads images\r\n",
    "from os import walk\r\n",
    "f = []\r\n",
    "ctpn_output_path = \"../data/dataset/ctpn_output/testing_data/\"\r\n",
    "for dirpath, dirnames, filenames in os.walk(ctpn_output_path):\r\n",
    "    f.append(filenames)\r\n",
    "    break\r\n",
    "f = f[0]"
   ],
   "outputs": [],
   "metadata": {}
  },
  {
   "cell_type": "code",
   "execution_count": 93,
   "source": [
    "ads_data = []\r\n",
    "for name in f:\r\n",
    "    ads_data.append([i[:-1] for i in open(ctpn_output_path + name,'r').readlines() if i !=\"\\n\"])"
   ],
   "outputs": [],
   "metadata": {}
  },
  {
   "cell_type": "markdown",
   "source": [
    "Get height and width of image"
   ],
   "metadata": {}
  },
  {
   "cell_type": "code",
   "execution_count": 82,
   "source": [
    "img_path = \"../data/dataset/testing_data\"\r\n",
    "hw_ads = [PIL.Image.open(img_path + \"/\" + name[:-3] + \"png\").size for name in f] "
   ],
   "outputs": [],
   "metadata": {}
  },
  {
   "cell_type": "code",
   "execution_count": 84,
   "source": [
    "def extract_info(arr):\r\n",
    "    arr = [int(i) for i in arr.split(\",\")[:-1]]\r\n",
    "    h_b = arr[-1]-arr[1]\r\n",
    "    w_b = arr[2] - arr[0]\r\n",
    "    h_cb = (arr[-1]+arr[1])//2\r\n",
    "    w_cb = (arr[2]+arr[0])//2\r\n",
    "    return h_b,w_b,h_cb,w_cb"
   ],
   "outputs": [],
   "metadata": {}
  },
  {
   "cell_type": "code",
   "execution_count": 100,
   "source": [
    "n_att = 10\r\n",
    "w_ads = []\r\n",
    "for bbs,hw in zip(ads_data,hw_ads):\r\n",
    "    if len(bbs) <n_att:\r\n",
    "        continue\r\n",
    "    temp = []\r\n",
    "    for bb in bbs:\r\n",
    "        h_b,w_b,h_cb,w_cb =extract_info(bb)\r\n",
    "        weight = (h_b*(abs(h_cb-hw[1])+1)*(abs(w_cb-hw[0])+1))/w_b\r\n",
    "        temp.append(weight)\r\n",
    "    temp = sorted(temp)\r\n",
    "    w_ads.append(temp[-n_att:])\r\n"
   ],
   "outputs": [],
   "metadata": {}
  },
  {
   "cell_type": "code",
   "execution_count": 108,
   "source": [
    "X = w_ads \r\n",
    "y = [0]*len(w_ads)\r\n",
    "for i in range(len(f)):\r\n",
    "    if f[i][:3] == \"ads\":\r\n",
    "        y[i] = 1"
   ],
   "outputs": [],
   "metadata": {}
  },
  {
   "cell_type": "markdown",
   "source": [
    "## Load SVM by joblid"
   ],
   "metadata": {}
  },
  {
   "cell_type": "code",
   "execution_count": 110,
   "source": [
    "import joblib\r\n",
    "import sklearn.metrics as metrics"
   ],
   "outputs": [],
   "metadata": {}
  },
  {
   "cell_type": "code",
   "execution_count": 111,
   "source": [
    "clf2 = joblib.load(\"../preprocessing/svm_phase_1.pkl\")\r\n",
    "clf2.probability = True\r\n",
    "phase_1 = clf2.predict_proba(X)"
   ],
   "outputs": [],
   "metadata": {}
  },
  {
   "cell_type": "code",
   "execution_count": 130,
   "source": [
    "y[:10]"
   ],
   "outputs": [
    {
     "output_type": "execute_result",
     "data": {
      "text/plain": [
       "[1, 1, 1, 1, 1, 1, 1, 1, 1, 1]"
      ]
     },
     "metadata": {},
     "execution_count": 130
    }
   ],
   "metadata": {}
  },
  {
   "cell_type": "code",
   "execution_count": 129,
   "source": [
    "phase_1[:10]"
   ],
   "outputs": [
    {
     "output_type": "execute_result",
     "data": {
      "text/plain": [
       "array([[0.79256317, 0.20743683],\n",
       "       [0.84267254, 0.15732746],\n",
       "       [0.68538182, 0.31461818],\n",
       "       [0.82777806, 0.17222194],\n",
       "       [0.8353582 , 0.1646418 ],\n",
       "       [0.81212878, 0.18787122],\n",
       "       [0.83863477, 0.16136523],\n",
       "       [0.69259297, 0.30740703],\n",
       "       [0.72690792, 0.27309208],\n",
       "       [0.75734984, 0.24265016]])"
      ]
     },
     "metadata": {},
     "execution_count": 129
    }
   ],
   "metadata": {}
  },
  {
   "cell_type": "markdown",
   "source": [
    "## Phase 2:\r\n",
    "-   Xception"
   ],
   "metadata": {}
  },
  {
   "cell_type": "code",
   "execution_count": 114,
   "source": [
    "from tensorflow.keras.models import load_model\r\n",
    "import os"
   ],
   "outputs": [],
   "metadata": {}
  },
  {
   "cell_type": "code",
   "execution_count": 115,
   "source": [
    "from PIL import Image\r\n",
    "import numpy as np\r\n",
    "from skimage import transform\r\n",
    "import shutil\r\n",
    "import keras\r\n",
    "import tensorflow as tf"
   ],
   "outputs": [],
   "metadata": {}
  },
  {
   "cell_type": "code",
   "execution_count": 116,
   "source": [
    "def load(filename):\r\n",
    "    np_image = Image.open(filename)\r\n",
    "    np_image = np.array(np_image).astype('float32')\r\n",
    "    np_image = transform.resize(np_image,(180,180,3))\r\n",
    "    np_image = np.expand_dims(np_image, axis = 0)\r\n",
    "    return np_image"
   ],
   "outputs": [],
   "metadata": {}
  },
  {
   "cell_type": "code",
   "execution_count": 117,
   "source": [
    "model = load_model('../phase_2/xception/model/save_at_40.h5')"
   ],
   "outputs": [],
   "metadata": {}
  },
  {
   "cell_type": "code",
   "execution_count": 119,
   "source": [
    "ads_path = \"../data/dataset/testing_data/\""
   ],
   "outputs": [],
   "metadata": {}
  },
  {
   "cell_type": "code",
   "execution_count": 124,
   "source": [
    "phase_2 = []\r\n",
    "for name in f:\r\n",
    "    r =model.predict(load(ads_path + name[:-3] + \"png\"))\r\n",
    "    phase_2.append([1-r[0][0], r[0][0]])"
   ],
   "outputs": [],
   "metadata": {}
  },
  {
   "cell_type": "code",
   "execution_count": 128,
   "source": [
    "phase_2[:10]"
   ],
   "outputs": [
    {
     "output_type": "execute_result",
     "data": {
      "text/plain": [
       "[[0.9996516704559326, 0.00034832954],\n",
       " [0.9999997151579407, 2.8484206e-07],\n",
       " [0.9999689133983338, 3.10866e-05],\n",
       " [0.9995241463184357, 0.00047585368],\n",
       " [0.9996791481971741, 0.0003208518],\n",
       " [0.9999999972622811, 2.737719e-09],\n",
       " [0.99847012758255, 0.0015298724],\n",
       " [0.9999999709479699, 2.905203e-08],\n",
       " [0.9999993381081822, 6.618918e-07],\n",
       " [0.9999999221356433, 7.786436e-08]]"
      ]
     },
     "metadata": {},
     "execution_count": 128
    }
   ],
   "metadata": {}
  },
  {
   "cell_type": "markdown",
   "source": [
    "### Save results of phase_1 and phase_2"
   ],
   "metadata": {}
  },
  {
   "cell_type": "code",
   "execution_count": 126,
   "source": [
    "import pickle"
   ],
   "outputs": [],
   "metadata": {}
  },
  {
   "cell_type": "code",
   "execution_count": 127,
   "source": [
    "with open(\"./phase_1.pkl\", \"wb\") as f:\r\n",
    "    pickle.dump([list(i) for i in phase_1],f)\r\n",
    "with open(\"./phase_2.pkl\", \"wb\") as f:\r\n",
    "    pickle.dump(phase_2,f)"
   ],
   "outputs": [],
   "metadata": {}
  },
  {
   "cell_type": "markdown",
   "source": [
    "### Load phase_1 and phase_2"
   ],
   "metadata": {}
  },
  {
   "cell_type": "code",
   "execution_count": 37,
   "source": [
    "# with open(\"./phase_1.pkl\", \"rb\") as f:\r\n",
    "#     phase_1 = pickle.load(f)\r\n",
    "# with open(\"./phase_2.pkl\", \"rb\") as f:\r\n",
    "#     phase_2 = pickle.load(f)"
   ],
   "outputs": [],
   "metadata": {}
  },
  {
   "cell_type": "markdown",
   "source": [
    "## Evaluating model"
   ],
   "metadata": {}
  },
  {
   "cell_type": "code",
   "execution_count": 140,
   "source": [
    "import sklearn.metrics as metrics\r\n",
    "import seaborn as sn\r\n",
    "import matplotlib.pyplot as plt\r\n",
    "import pandas as pd"
   ],
   "outputs": [],
   "metadata": {}
  },
  {
   "cell_type": "code",
   "execution_count": 132,
   "source": [
    "y_pred = [0]*len(y)\r\n",
    "for i in range(len(y)):\r\n",
    "    ads_r = (phase_1[i][0] + phase_2[i][0])/2\r\n",
    "    non_ads_r = (phase_1[i][1] + phase_2[i][1])/2\r\n",
    "    if ads_r > non_ads_r:\r\n",
    "        y_pred[i] = 1"
   ],
   "outputs": [],
   "metadata": {}
  },
  {
   "cell_type": "code",
   "execution_count": 143,
   "source": [
    "r = metrics.confusion_matrix(y, y_pred)\r\n",
    "r"
   ],
   "outputs": [
    {
     "output_type": "execute_result",
     "data": {
      "text/plain": [
       "array([[251,  42],\n",
       "       [  6, 367]], dtype=int64)"
      ]
     },
     "metadata": {},
     "execution_count": 143
    }
   ],
   "metadata": {}
  },
  {
   "cell_type": "code",
   "execution_count": 145,
   "source": [
    "df_cm = pd.DataFrame(r, index = ['non_ads','ads'],\r\n",
    "                  columns = ['non_ads','ads'])\r\n",
    "plt.figure(figsize = (5,5))\r\n",
    "sn.heatmap(df_cm, annot=True)"
   ],
   "outputs": [
    {
     "output_type": "execute_result",
     "data": {
      "text/plain": [
       "<AxesSubplot:>"
      ]
     },
     "metadata": {},
     "execution_count": 145
    },
    {
     "output_type": "display_data",
     "data": {
      "image/png": "[encoded data removed]",
      "text/plain": [
       "<Figure size 360x360 with 2 Axes>"
      ]
     },
     "metadata": {
      "needs_background": "light"
     }
    }
   ],
   "metadata": {}
  }
 ],
 "metadata": {
  "orig_nbformat": 4,
  "language_info": {
   "name": "python",
   "version": "3.8.8",
   "mimetype": "text/x-python",
   "codemirror_mode": {
    "name": "ipython",
    "version": 3
   },
   "pygments_lexer": "ipython3",
   "nbconvert_exporter": "python",
   "file_extension": ".py"
  },
  "kernelspec": {
   "name": "python3",
   "display_name": "Python 3.8.8 64-bit ('base': conda)"
  },
  "interpreter": {
   "hash": "183bbf6827d058c2a2fb0f4acdc0420849dda2b4380af0e437e38c64d798d8b7"
  }
 },
 "nbformat": 4,
 "nbformat_minor": 2
}