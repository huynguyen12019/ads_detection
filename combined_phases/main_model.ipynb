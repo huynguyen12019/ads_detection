{
 "cells": [
  {
   "cell_type": "markdown",
   "metadata": {},
   "source": [
    "## Phase 1:\n",
    "-   CTPN\n",
    "-   SVN"
   ]
  },
  {
   "cell_type": "markdown",
   "metadata": {},
   "source": [
    "### Load file path"
   ]
  },
  {
   "cell_type": "code",
   "execution_count": 4,
   "metadata": {},
   "outputs": [],
   "source": [
    "from os import walk\n",
    "import numpy as np\n",
    "import matplotlib.pyplot as plt\n",
    "import PIL\n",
    "from sklearn.model_selection import train_test_split\n",
    "import sklearn.metrics as metrics"
   ]
  },
  {
   "cell_type": "code",
   "execution_count": 5,
   "metadata": {},
   "outputs": [],
   "source": [
    "# get link of ads and non ads images\n",
    "from os import walk\n",
    "f_test = []\n",
    "ctpn_output_test = \"../data/dataset/ctpn_output/testing_data/\"\n",
    "for dirpath, dirnames, filenames in os.walk(ctpn_output_test):\n",
    "    f_test.append(filenames)\n",
    "    break\n",
    "f_test = f_test[0]"
   ]
  },
  {
   "cell_type": "code",
   "execution_count": 6,
   "metadata": {},
   "outputs": [],
   "source": [
    "ads_test_data = []\n",
    "for name in f_test:\n",
    "    ads_test_data.append([i[:-1] for i in open(ctpn_output_test + name,'r').readlines() if i !=\"\\n\"])"
   ]
  },
  {
   "cell_type": "markdown",
   "metadata": {},
   "source": [
    "Get height and width of image"
   ]
  },
  {
   "cell_type": "code",
   "execution_count": 7,
   "metadata": {},
   "outputs": [],
   "source": [
    "img_test_path = \"../data/dataset/testing_data\"\n",
    "hw_test = [PIL.Image.open(img_test_path + \"/\" + name[:-3] + \"png\").size for name in f_test] "
   ]
  },
  {
   "cell_type": "code",
   "execution_count": 8,
   "metadata": {},
   "outputs": [],
   "source": [
    "def extract_info(arr):\n",
    "    arr = [int(i) for i in arr.split(\",\")[:-1]]\n",
    "    h_b = arr[-1]-arr[1]\n",
    "    w_b = arr[2] - arr[0]\n",
    "    h_cb = (arr[-1]+arr[1])//2\n",
    "    w_cb = (arr[2]+arr[0])//2\n",
    "    return h_b,w_b,h_cb,w_cb"
   ]
  },
  {
   "cell_type": "code",
   "execution_count": 9,
   "metadata": {},
   "outputs": [],
   "source": [
    "def sort_weight(bb, temp_scale,temp_distance=None):\n",
    "    if temp_distance != None:\n",
    "        temp_scale_sort = sorted(temp_scale)\n",
    "        temp_distance_sort = sorted(temp_distance)\n",
    "        bb_t = set()\n",
    "        for distance in temp_distance_sort[-n_att:]:\n",
    "            bb_t.add(bb[temp_distance_sort.index(distance)])\n",
    "        for scale in temp_scale_sort[-n_att:]:\n",
    "            bb_t.add(bb[temp_scale_sort.index(scale)])\n",
    "        return list(bb_t),temp_scale_sort[-n_att:] + temp_distance_sort[-n_att:]\n",
    "    else:\n",
    "        w = sorted(temp_scale)\n",
    "        bb_t = []\n",
    "        for i in range(n_att):\n",
    "            bb_t.append(bb[temp_scale.index(w[-n_att+i])])\n",
    "        return bb_t,w[-n_att:]"
   ]
  },
  {
   "cell_type": "markdown",
   "metadata": {},
   "source": [
    "![expression](https://drive.google.com/uc?export=view&id=10s70Ooov1ICpqj5myX52Z3xdoz2BnffD)"
   ]
  },
  {
   "cell_type": "code",
   "execution_count": 10,
   "metadata": {},
   "outputs": [],
   "source": [
    "n_att = 10\n",
    "w_test = []\n",
    "for bbs,hw in zip(ads_test_data,hw_test):\n",
    "    if len(bbs) <n_att:\n",
    "        continue\n",
    "    temp_scale = []\n",
    "    temp_distance = []\n",
    "    for bb in bbs:\n",
    "        h_b,w_b,h_cb,w_cb =extract_info(bb)\n",
    "        weight = (3*h_b*(abs(h_cb-hw[1])+1)*(abs(w_cb-hw[0])+1))/w_b\n",
    "        temp_scale.append(h_b/w_b)\n",
    "        temp_distance.append((abs(h_cb-hw[1])+1)*(abs(w_cb-hw[0])+1)/(hw[0]*hw[1]))\n",
    "    bb_t, w_t = sort_weight(bbs, temp_scale,temp_distance)\n",
    "    w_test.append(w_t)\n"
   ]
  },
  {
   "cell_type": "code",
   "execution_count": 11,
   "metadata": {},
   "outputs": [],
   "source": [
    "X_test = w_test\n",
    "y_test = [0]*len(w_test)\n",
    "for i in range(len(f_test)):\n",
    "    if f_test[i][:3] == \"ads\":\n",
    "        y_test[i] = 1"
   ]
  },
  {
   "cell_type": "markdown",
   "metadata": {},
   "source": [
    "## Load SVM by joblid"
   ]
  },
  {
   "cell_type": "code",
   "execution_count": 12,
   "metadata": {},
   "outputs": [],
   "source": [
    "import joblib\n",
    "import sklearn.metrics as metrics"
   ]
  },
  {
   "cell_type": "code",
   "execution_count": 13,
   "metadata": {},
   "outputs": [],
   "source": [
    "clf2 = joblib.load(\"../phase_1/svm_phase_1_v2.pkl\")\n",
    "clf2.probability = True\n",
    "test_phase_1 = [[i[0],i[1]] for i in clf2.predict_proba(X_test)]"
   ]
  },
  {
   "cell_type": "code",
   "execution_count": 14,
   "metadata": {},
   "outputs": [
    {
     "data": {
      "text/plain": [
       "[1, 1, 1, 1, 1, 1, 1, 1, 1, 1]"
      ]
     },
     "execution_count": 14,
     "metadata": {},
     "output_type": "execute_result"
    }
   ],
   "source": [
    "y_test[:10]"
   ]
  },
  {
   "cell_type": "code",
   "execution_count": 15,
   "metadata": {},
   "outputs": [
    {
     "data": {
      "text/plain": [
       "[[0.9444856046266195, 0.0555143953733806],\n",
       " [0.5546725094422263, 0.4453274905577737],\n",
       " [0.8160630626858774, 0.18393693731412283],\n",
       " [0.9343373534758573, 0.06566264652414242],\n",
       " [0.8599814564612539, 0.14001854353874596],\n",
       " [0.9604963284533842, 0.039503671546615826],\n",
       " [0.9159004421489925, 0.08409955785100753],\n",
       " [0.9715534470273649, 0.028446552972635042],\n",
       " [0.41227966510515407, 0.587720334894846],\n",
       " [0.40238634054482825, 0.5976136594551718]]"
      ]
     },
     "execution_count": 15,
     "metadata": {},
     "output_type": "execute_result"
    }
   ],
   "source": [
    "test_phase_1[:10]"
   ]
  },
  {
   "cell_type": "code",
   "execution_count": 16,
   "metadata": {},
   "outputs": [],
   "source": [
    "y_test_phase_1 = [0] * len(y_test)\n",
    "for i,r in enumerate(test_phase_1):\n",
    "    if r[0] > r[1]:\n",
    "        y_test_phase_1[i] = 1"
   ]
  },
  {
   "cell_type": "code",
   "execution_count": 17,
   "metadata": {},
   "outputs": [
    {
     "data": {
      "text/plain": [
       "array([[267,  26],\n",
       "       [ 23, 350]], dtype=int64)"
      ]
     },
     "execution_count": 17,
     "metadata": {},
     "output_type": "execute_result"
    }
   ],
   "source": [
    "metrics.confusion_matrix(y_test,y_test_phase_1)"
   ]
  },
  {
   "cell_type": "code",
   "execution_count": 18,
   "metadata": {},
   "outputs": [
    {
     "data": {
      "text/plain": [
       "0.9264264264264265"
      ]
     },
     "execution_count": 18,
     "metadata": {},
     "output_type": "execute_result"
    }
   ],
   "source": [
    "metrics.accuracy_score(y_test,y_test_phase_1)"
   ]
  },
  {
   "cell_type": "markdown",
   "metadata": {},
   "source": [
    "## Phase 2:\n",
    "-   Xception"
   ]
  },
  {
   "cell_type": "code",
   "execution_count": 19,
   "metadata": {},
   "outputs": [],
   "source": [
    "from tensorflow.keras.models import load_model\n",
    "import os"
   ]
  },
  {
   "cell_type": "code",
   "execution_count": 21,
   "metadata": {},
   "outputs": [],
   "source": [
    "from PIL import Image\n",
    "from skimage import transform\n",
    "import shutil\n",
    "import keras\n",
    "import tensorflow as tf"
   ]
  },
  {
   "cell_type": "code",
   "execution_count": 22,
   "metadata": {},
   "outputs": [],
   "source": [
    "def load(filename):\n",
    "    np_image = Image.open(filename)\n",
    "    np_image = np.array(np_image).astype('float32')\n",
    "    np_image = transform.resize(np_image,(180,180,3))\n",
    "    np_image = np.expand_dims(np_image, axis = 0)\n",
    "    return np_image"
   ]
  },
  {
   "cell_type": "code",
   "execution_count": 23,
   "metadata": {},
   "outputs": [],
   "source": [
    "model_phase_2 = load_model('../phase_2/xception/model/save_at_40.h5')"
   ]
  },
  {
   "cell_type": "code",
   "execution_count": 24,
   "metadata": {},
   "outputs": [],
   "source": [
    "test_phase_2 = []\n",
    "for name in f_test:\n",
    "    r =model_phase_2.predict(load(img_test_path +'/'+ name[:-3] + \"png\"))\n",
    "    test_phase_2.append([1-r[0][0], r[0][0]])"
   ]
  },
  {
   "cell_type": "code",
   "execution_count": 25,
   "metadata": {},
   "outputs": [
    {
     "data": {
      "text/plain": [
       "[[0.9996516704559326, 0.00034832954],\n",
       " [0.9999997151579407, 2.8484206e-07],\n",
       " [0.9999689133983338, 3.10866e-05],\n",
       " [0.9995241463184357, 0.00047585368],\n",
       " [0.9996791481971741, 0.0003208518],\n",
       " [0.9999999972622811, 2.737719e-09],\n",
       " [0.99847012758255, 0.0015298724],\n",
       " [0.9999999709479699, 2.905203e-08],\n",
       " [0.9999993381081822, 6.618918e-07],\n",
       " [0.9999999221356433, 7.786436e-08]]"
      ]
     },
     "execution_count": 25,
     "metadata": {},
     "output_type": "execute_result"
    }
   ],
   "source": [
    "test_phase_2[:10]"
   ]
  },
  {
   "cell_type": "code",
   "execution_count": 26,
   "metadata": {},
   "outputs": [],
   "source": [
    "y_phase_2 = [0] * len(y_test)\n",
    "for i,r in enumerate(test_phase_2):\n",
    "    if r[0] > r[1]:\n",
    "        y_phase_2[i] = 1"
   ]
  },
  {
   "cell_type": "code",
   "execution_count": 27,
   "metadata": {},
   "outputs": [
    {
     "data": {
      "text/plain": [
       "array([[245,  48],\n",
       "       [  6, 367]], dtype=int64)"
      ]
     },
     "execution_count": 27,
     "metadata": {},
     "output_type": "execute_result"
    }
   ],
   "source": [
    "metrics.confusion_matrix(y_test,y_phase_2)"
   ]
  },
  {
   "cell_type": "code",
   "execution_count": 31,
   "metadata": {},
   "outputs": [
    {
     "data": {
      "text/plain": [
       "0.918918918918919"
      ]
     },
     "execution_count": 31,
     "metadata": {},
     "output_type": "execute_result"
    }
   ],
   "source": [
    "metrics.accuracy_score(y_test,y_phase_2)"
   ]
  },
  {
   "cell_type": "markdown",
   "metadata": {},
   "source": [
    "### Save results of phase_1 and phase_2"
   ]
  },
  {
   "cell_type": "code",
   "execution_count": 32,
   "metadata": {},
   "outputs": [],
   "source": [
    "import pickle"
   ]
  },
  {
   "cell_type": "code",
   "execution_count": 33,
   "metadata": {},
   "outputs": [],
   "source": [
    "with open(\"./test_phase_1.pkl\", \"wb\") as f:\n",
    "    pickle.dump([list(i) for i in test_phase_1],f)\n",
    "with open(\"./test_phase_2.pkl\", \"wb\") as f:\n",
    "    pickle.dump(test_phase_2,f)"
   ]
  },
  {
   "cell_type": "markdown",
   "metadata": {},
   "source": [
    "### Load phase_1 and phase_2"
   ]
  },
  {
   "cell_type": "code",
   "execution_count": 34,
   "metadata": {},
   "outputs": [],
   "source": [
    "with open(\"./test_phase_1.pkl\", \"rb\") as f:\n",
    "    test_phase_1 = pickle.load(f)\n",
    "with open(\"./test_phase_2.pkl\", \"rb\") as f:\n",
    "    test_phase_2 = pickle.load(f)"
   ]
  },
  {
   "cell_type": "markdown",
   "metadata": {},
   "source": [
    "## Evaluating model"
   ]
  },
  {
   "cell_type": "code",
   "execution_count": 36,
   "metadata": {},
   "outputs": [],
   "source": [
    "\n",
    "import seaborn as sn\n",
    "import pandas as pd"
   ]
  },
  {
   "cell_type": "markdown",
   "metadata": {},
   "source": [
    "### 1. Mean of 2 phases"
   ]
  },
  {
   "cell_type": "code",
   "execution_count": 37,
   "metadata": {},
   "outputs": [],
   "source": [
    "y_pred = [0]*len(y_test)\n",
    "for i in range(len(y_test)):\n",
    "    ads_r = (test_phase_1[i][0] + test_phase_2[i][0])/2\n",
    "    non_ads_r = (test_phase_1[i][1] + test_phase_2[i][1])/2\n",
    "    if ads_r > non_ads_r:\n",
    "        y_pred[i] = 1"
   ]
  },
  {
   "cell_type": "code",
   "execution_count": 38,
   "metadata": {},
   "outputs": [
    {
     "name": "stdout",
     "output_type": "stream",
     "text": [
      "Confusion matrix: \n",
      " [[273  20]\n",
      " [  6 367]]\n"
     ]
    }
   ],
   "source": [
    "r = metrics.confusion_matrix(y_test, y_pred)\n",
    "print(\"Confusion matrix: \\n\", r)"
   ]
  },
  {
   "cell_type": "code",
   "execution_count": 39,
   "metadata": {},
   "outputs": [
    {
     "name": "stdout",
     "output_type": "stream",
     "text": [
      "Accuracy:  0.960960960960961\n"
     ]
    }
   ],
   "source": [
    "acc = metrics.accuracy_score(y_test, y_pred)\n",
    "print(\"Accuracy: \", acc)"
   ]
  },
  {
   "cell_type": "code",
   "execution_count": 40,
   "metadata": {},
   "outputs": [
    {
     "data": {
      "text/plain": [
       "<AxesSubplot:>"
      ]
     },
     "execution_count": 40,
     "metadata": {},
     "output_type": "execute_result"
    },
    {
     "data": {
      "image/png": "[encoded data removed]",
      "text/plain": [
       "<Figure size 360x360 with 2 Axes>"
      ]
     },
     "metadata": {
      "needs_background": "light"
     },
     "output_type": "display_data"
    }
   ],
   "source": [
    "df_cm = pd.DataFrame(r, index = ['non_ads','ads'],\n",
    "                  columns = ['non_ads','ads'])\n",
    "plt.figure(figsize = (5,5))\n",
    "sn.heatmap(df_cm, annot=True)"
   ]
  },
  {
   "cell_type": "markdown",
   "metadata": {},
   "source": [
    "### 2. Using Neural Network to combines 2 phases"
   ]
  },
  {
   "cell_type": "markdown",
   "metadata": {},
   "source": [
    "#### Train phase 1 using SVM"
   ]
  },
  {
   "cell_type": "code",
   "execution_count": 41,
   "metadata": {},
   "outputs": [],
   "source": [
    "from sklearn.svm import SVC\n",
    "from sklearn.model_selection import train_test_split\n",
    "from sklearn.preprocessing import LabelEncoder, StandardScaler\n",
    "import sklearn.metrics as metrics"
   ]
  },
  {
   "cell_type": "code",
   "execution_count": 42,
   "metadata": {},
   "outputs": [],
   "source": [
    "f = []\n",
    "ctpn_output_train = \"../data/dataset/ctpn_output/training_data/\"\n",
    "for dirpath, dirnames, filenames in os.walk(ctpn_output_train):\n",
    "    f.append(filenames)\n",
    "    break\n",
    "f = f[0]\n",
    "ads_train_data = []\n",
    "for name in f:\n",
    "    ads_train_data.append([i[:-1] for i in open(ctpn_output_train + name,'r').readlines() if i !=\"\\n\"])"
   ]
  },
  {
   "cell_type": "code",
   "execution_count": 43,
   "metadata": {},
   "outputs": [],
   "source": [
    "img_train_path = \"../data/dataset/training_data/\"\n",
    "hw_train = [PIL.Image.open(img_train_path + \"/\" + name[:-3] + \"png\").size for name in f] \n",
    "n_att = 10\n",
    "w_train = []\n",
    "for bbs,hw in zip(ads_train_data,hw_train):\n",
    "    if len(bbs) <n_att:\n",
    "        continue\n",
    "    temp_scale = []\n",
    "    temp_distance = []\n",
    "    for bb in bbs:\n",
    "        h_b,w_b,h_cb,w_cb =extract_info(bb)\n",
    "        weight = (3*h_b*(abs(h_cb-hw[1])+1)*(abs(w_cb-hw[0])+1))/w_b\n",
    "        temp_scale.append(h_b/w_b)\n",
    "        temp_distance.append((abs(h_cb-hw[1])+1)*(abs(w_cb-hw[0])+1)/(hw[0]*hw[1]))\n",
    "    bb_t, w_t = sort_weight(bbs, temp_scale,temp_distance)\n",
    "    w_train.append(w_t)\n"
   ]
  },
  {
   "cell_type": "code",
   "execution_count": 44,
   "metadata": {},
   "outputs": [],
   "source": [
    "X_train = w_train\n",
    "y_train = [0]*len(w_train)\n",
    "for i in range(len(f)):\n",
    "    if f[i][:3] == \"ads\":\n",
    "        y_train[i] = 1"
   ]
  },
  {
   "cell_type": "code",
   "execution_count": 45,
   "metadata": {},
   "outputs": [],
   "source": [
    "clf = SVC(C=1.0, kernel='rbf', probability=True).fit(X_train,y_train)\n",
    "clf.probability = True"
   ]
  },
  {
   "cell_type": "code",
   "execution_count": 46,
   "metadata": {},
   "outputs": [],
   "source": [
    "train_phase_1 =[[i[1],i[0]] for i in clf.predict_proba(X_train)]"
   ]
  },
  {
   "cell_type": "code",
   "execution_count": 47,
   "metadata": {},
   "outputs": [
    {
     "data": {
      "text/plain": [
       "[[0.8571722216059422, 0.1428277783940578],\n",
       " [0.5171788587356276, 0.4828211412643723],\n",
       " [0.970337292896941, 0.02966270710305902],\n",
       " [0.547264866598037, 0.4527351334019629],\n",
       " [0.8236336530922111, 0.1763663469077892],\n",
       " [0.7968351391611713, 0.20316486083882856],\n",
       " [0.9810935711248752, 0.018906428875124694],\n",
       " [0.9465200260716699, 0.05347997392833045],\n",
       " [0.8304880406163764, 0.1695119593836236],\n",
       " [0.9304266161489487, 0.06957338385105137]]"
      ]
     },
     "execution_count": 47,
     "metadata": {},
     "output_type": "execute_result"
    }
   ],
   "source": [
    "train_phase_1[:10]"
   ]
  },
  {
   "cell_type": "markdown",
   "metadata": {},
   "source": [
    "#### Train phase 2 use Xception"
   ]
  },
  {
   "cell_type": "code",
   "execution_count": 49,
   "metadata": {},
   "outputs": [],
   "source": [
    "from tensorflow.keras.models import load_model\n",
    "import os\n",
    "from PIL import Image\n",
    "from skimage import transform\n",
    "import shutil\n",
    "import keras\n",
    "import tensorflow as tf"
   ]
  },
  {
   "cell_type": "code",
   "execution_count": 50,
   "metadata": {},
   "outputs": [],
   "source": [
    "train_phase_2 = []\n",
    "for name in f:\n",
    "    r =model_phase_2.predict(load(img_train_path + name[:-3] + \"png\"))\n",
    "    train_phase_2.append([1-r[0][0], r[0][0]])"
   ]
  },
  {
   "cell_type": "markdown",
   "metadata": {},
   "source": [
    "#### Save 2 file train_phase_1 and train_phase_2"
   ]
  },
  {
   "cell_type": "code",
   "execution_count": 51,
   "metadata": {},
   "outputs": [],
   "source": [
    "# Save list result of phase 1 and 2\n",
    "with open(\"./train_phase_1.pkl\", \"wb\") as file_io:\n",
    "    pickle.dump(train_phase_1,file_io)\n",
    "with open(\"./train_phase_2.pkl\", \"wb\") as file_io:\n",
    "    pickle.dump(train_phase_2,file_io)"
   ]
  },
  {
   "cell_type": "markdown",
   "metadata": {},
   "source": [
    "#### Load 2 file train_phase_1 and train_phase_2"
   ]
  },
  {
   "cell_type": "code",
   "execution_count": 52,
   "metadata": {},
   "outputs": [],
   "source": [
    "# Save list result of phase 1 and 2\n",
    "with open(\"./train_phase_1.pkl\", \"rb\") as file_io:\n",
    "    train_phase_1 = pickle.load(file_io)\n",
    "with open(\"./train_phase_2.pkl\", \"rb\") as file_io:\n",
    "    train_phase_2 = pickle.load(file_io)"
   ]
  },
  {
   "cell_type": "code",
   "execution_count": 53,
   "metadata": {},
   "outputs": [],
   "source": [
    "from keras.models import Sequential\n",
    "from keras.layers import Dense"
   ]
  },
  {
   "cell_type": "markdown",
   "metadata": {},
   "source": [
    "### Train Neural Network"
   ]
  },
  {
   "cell_type": "code",
   "execution_count": 54,
   "metadata": {},
   "outputs": [],
   "source": [
    "X = [train_phase_1[i] + train_phase_2[i] for i in range(len(train_phase_1))]\n",
    "y = y_train"
   ]
  },
  {
   "cell_type": "code",
   "execution_count": 55,
   "metadata": {},
   "outputs": [],
   "source": [
    "\n",
    "# define the keras model\n",
    "model =Sequential()\n",
    "model.add(Dense(16, input_dim=4, activation='relu'))\n",
    "model.add(Dense(12, activation='relu'))\n",
    "model.add(Dense(8, activation='relu'))\n",
    "model.add(Dense(4, activation='relu'))\n",
    "model.add(Dense(1, activation='sigmoid'))"
   ]
  },
  {
   "cell_type": "code",
   "execution_count": 56,
   "metadata": {},
   "outputs": [],
   "source": [
    "# compile the keras model\n",
    "model.compile(loss='binary_crossentropy', optimizer='adam', metrics=['accuracy'])"
   ]
  },
  {
   "cell_type": "code",
   "execution_count": 57,
   "metadata": {},
   "outputs": [
    {
     "name": "stdout",
     "output_type": "stream",
     "text": [
      "Epoch 1/100\n",
      "156/156 [==============================] - 1s 1ms/step - loss: 0.4941 - accuracy: 0.8673\n",
      "Epoch 2/100\n",
      "156/156 [==============================] - 0s 997us/step - loss: 0.1959 - accuracy: 0.9762\n",
      "Epoch 3/100\n",
      "156/156 [==============================] - 0s 892us/step - loss: 0.0669 - accuracy: 0.9781\n",
      "Epoch 4/100\n",
      "156/156 [==============================] - 0s 786us/step - loss: 0.0640 - accuracy: 0.9774\n",
      "Epoch 5/100\n",
      "156/156 [==============================] - 0s 795us/step - loss: 0.0605 - accuracy: 0.9774\n",
      "Epoch 6/100\n",
      "156/156 [==============================] - 0s 945us/step - loss: 0.0611 - accuracy: 0.9749\n",
      "Epoch 7/100\n",
      "156/156 [==============================] - 0s 1ms/step - loss: 0.0593 - accuracy: 0.9768\n",
      "Epoch 8/100\n",
      "156/156 [==============================] - 0s 866us/step - loss: 0.0575 - accuracy: 0.9762\n",
      "Epoch 9/100\n",
      "156/156 [==============================] - 0s 856us/step - loss: 0.0574 - accuracy: 0.9774\n",
      "Epoch 10/100\n",
      "156/156 [==============================] - 0s 821us/step - loss: 0.0576 - accuracy: 0.9749\n",
      "Epoch 11/100\n",
      "156/156 [==============================] - 0s 1ms/step - loss: 0.0567 - accuracy: 0.9749\n",
      "Epoch 12/100\n",
      "156/156 [==============================] - 0s 917us/step - loss: 0.0561 - accuracy: 0.9762\n",
      "Epoch 13/100\n",
      "156/156 [==============================] - 0s 921us/step - loss: 0.0565 - accuracy: 0.9787\n",
      "Epoch 14/100\n",
      "156/156 [==============================] - 0s 880us/step - loss: 0.0545 - accuracy: 0.9820\n",
      "Epoch 15/100\n",
      "156/156 [==============================] - 0s 1ms/step - loss: 0.0538 - accuracy: 0.9755\n",
      "Epoch 16/100\n",
      "156/156 [==============================] - 0s 894us/step - loss: 0.0544 - accuracy: 0.9800\n",
      "Epoch 17/100\n",
      "156/156 [==============================] - 0s 847us/step - loss: 0.0548 - accuracy: 0.9800\n",
      "Epoch 18/100\n",
      "156/156 [==============================] - 0s 907us/step - loss: 0.0519 - accuracy: 0.9807\n",
      "Epoch 19/100\n",
      "156/156 [==============================] - 0s 859us/step - loss: 0.0552 - accuracy: 0.9781\n",
      "Epoch 20/100\n",
      "156/156 [==============================] - 0s 835us/step - loss: 0.0526 - accuracy: 0.9774\n",
      "Epoch 21/100\n",
      "156/156 [==============================] - 0s 850us/step - loss: 0.0529 - accuracy: 0.9787\n",
      "Epoch 22/100\n",
      "156/156 [==============================] - 0s 829us/step - loss: 0.0532 - accuracy: 0.9768\n",
      "Epoch 23/100\n",
      "156/156 [==============================] - 0s 857us/step - loss: 0.0505 - accuracy: 0.9794\n",
      "Epoch 24/100\n",
      "156/156 [==============================] - 0s 814us/step - loss: 0.0515 - accuracy: 0.9807\n",
      "Epoch 25/100\n",
      "156/156 [==============================] - 0s 869us/step - loss: 0.0507 - accuracy: 0.9781\n",
      "Epoch 26/100\n",
      "156/156 [==============================] - 0s 830us/step - loss: 0.0503 - accuracy: 0.9768\n",
      "Epoch 27/100\n",
      "156/156 [==============================] - 0s 872us/step - loss: 0.0519 - accuracy: 0.9794\n",
      "Epoch 28/100\n",
      "156/156 [==============================] - 0s 846us/step - loss: 0.0497 - accuracy: 0.9774\n",
      "Epoch 29/100\n",
      "156/156 [==============================] - 0s 845us/step - loss: 0.0497 - accuracy: 0.9787\n",
      "Epoch 30/100\n",
      "156/156 [==============================] - 0s 826us/step - loss: 0.0496 - accuracy: 0.9794\n",
      "Epoch 31/100\n",
      "156/156 [==============================] - 0s 773us/step - loss: 0.0492 - accuracy: 0.9813\n",
      "Epoch 32/100\n",
      "156/156 [==============================] - 0s 820us/step - loss: 0.0494 - accuracy: 0.9807\n",
      "Epoch 33/100\n",
      "156/156 [==============================] - 0s 786us/step - loss: 0.0493 - accuracy: 0.9774\n",
      "Epoch 34/100\n",
      "156/156 [==============================] - 0s 855us/step - loss: 0.0494 - accuracy: 0.9768\n",
      "Epoch 35/100\n",
      "156/156 [==============================] - 0s 828us/step - loss: 0.0478 - accuracy: 0.9832\n",
      "Epoch 36/100\n",
      "156/156 [==============================] - 0s 802us/step - loss: 0.0477 - accuracy: 0.9807\n",
      "Epoch 37/100\n",
      "156/156 [==============================] - 0s 867us/step - loss: 0.0481 - accuracy: 0.9820\n",
      "Epoch 38/100\n",
      "156/156 [==============================] - 0s 805us/step - loss: 0.0495 - accuracy: 0.9807\n",
      "Epoch 39/100\n",
      "156/156 [==============================] - 0s 846us/step - loss: 0.0507 - accuracy: 0.9800\n",
      "Epoch 40/100\n",
      "156/156 [==============================] - 0s 801us/step - loss: 0.0483 - accuracy: 0.9800\n",
      "Epoch 41/100\n",
      "156/156 [==============================] - 0s 869us/step - loss: 0.0466 - accuracy: 0.9807\n",
      "Epoch 42/100\n",
      "156/156 [==============================] - 0s 828us/step - loss: 0.0492 - accuracy: 0.9794\n",
      "Epoch 43/100\n",
      "156/156 [==============================] - 0s 829us/step - loss: 0.0496 - accuracy: 0.9781\n",
      "Epoch 44/100\n",
      "156/156 [==============================] - 0s 809us/step - loss: 0.0474 - accuracy: 0.9832\n",
      "Epoch 45/100\n",
      "156/156 [==============================] - 0s 793us/step - loss: 0.0489 - accuracy: 0.9820\n",
      "Epoch 46/100\n",
      "156/156 [==============================] - 0s 814us/step - loss: 0.0476 - accuracy: 0.9820\n",
      "Epoch 47/100\n",
      "156/156 [==============================] - 0s 804us/step - loss: 0.0464 - accuracy: 0.9787\n",
      "Epoch 48/100\n",
      "156/156 [==============================] - 0s 840us/step - loss: 0.0462 - accuracy: 0.9807\n",
      "Epoch 49/100\n",
      "156/156 [==============================] - 0s 1ms/step - loss: 0.0466 - accuracy: 0.9807\n",
      "Epoch 50/100\n",
      "156/156 [==============================] - 0s 937us/step - loss: 0.0470 - accuracy: 0.9807\n",
      "Epoch 51/100\n",
      "156/156 [==============================] - 0s 1ms/step - loss: 0.0458 - accuracy: 0.9813\n",
      "Epoch 52/100\n",
      "156/156 [==============================] - 0s 1ms/step - loss: 0.0461 - accuracy: 0.9820\n",
      "Epoch 53/100\n",
      "156/156 [==============================] - 0s 1ms/step - loss: 0.0467 - accuracy: 0.9807\n",
      "Epoch 54/100\n",
      "156/156 [==============================] - 0s 1ms/step - loss: 0.0495 - accuracy: 0.9787\n",
      "Epoch 55/100\n",
      "156/156 [==============================] - 0s 893us/step - loss: 0.0463 - accuracy: 0.9813\n",
      "Epoch 56/100\n",
      "156/156 [==============================] - 0s 925us/step - loss: 0.0467 - accuracy: 0.9820\n",
      "Epoch 57/100\n",
      "156/156 [==============================] - 0s 908us/step - loss: 0.0452 - accuracy: 0.9813\n",
      "Epoch 58/100\n",
      "156/156 [==============================] - 0s 825us/step - loss: 0.0456 - accuracy: 0.9813\n",
      "Epoch 59/100\n",
      "156/156 [==============================] - 0s 850us/step - loss: 0.0466 - accuracy: 0.9820\n",
      "Epoch 60/100\n",
      "156/156 [==============================] - 0s 966us/step - loss: 0.0448 - accuracy: 0.9813\n",
      "Epoch 61/100\n",
      "156/156 [==============================] - 0s 2ms/step - loss: 0.0464 - accuracy: 0.9813\n",
      "Epoch 62/100\n",
      "156/156 [==============================] - 0s 1ms/step - loss: 0.0446 - accuracy: 0.9807\n",
      "Epoch 63/100\n",
      "156/156 [==============================] - 0s 2ms/step - loss: 0.0454 - accuracy: 0.9807\n",
      "Epoch 64/100\n",
      "156/156 [==============================] - 0s 1ms/step - loss: 0.0455 - accuracy: 0.9826\n",
      "Epoch 65/100\n",
      "156/156 [==============================] - 0s 962us/step - loss: 0.0439 - accuracy: 0.9800\n",
      "Epoch 66/100\n",
      "156/156 [==============================] - 0s 954us/step - loss: 0.0453 - accuracy: 0.9832\n",
      "Epoch 67/100\n",
      "156/156 [==============================] - 0s 920us/step - loss: 0.0449 - accuracy: 0.9832\n",
      "Epoch 68/100\n",
      "156/156 [==============================] - 0s 834us/step - loss: 0.0445 - accuracy: 0.9826\n",
      "Epoch 69/100\n",
      "156/156 [==============================] - 0s 896us/step - loss: 0.0448 - accuracy: 0.9807\n",
      "Epoch 70/100\n",
      "156/156 [==============================] - 0s 944us/step - loss: 0.0446 - accuracy: 0.9787\n",
      "Epoch 71/100\n",
      "156/156 [==============================] - 0s 908us/step - loss: 0.0446 - accuracy: 0.9813\n",
      "Epoch 72/100\n",
      "156/156 [==============================] - 0s 826us/step - loss: 0.0433 - accuracy: 0.9832\n",
      "Epoch 73/100\n",
      "156/156 [==============================] - 0s 872us/step - loss: 0.0445 - accuracy: 0.9826\n",
      "Epoch 74/100\n",
      "156/156 [==============================] - 0s 895us/step - loss: 0.0430 - accuracy: 0.9832\n",
      "Epoch 75/100\n",
      "156/156 [==============================] - 0s 868us/step - loss: 0.0433 - accuracy: 0.9813\n",
      "Epoch 76/100\n",
      "156/156 [==============================] - 0s 839us/step - loss: 0.0427 - accuracy: 0.9800\n",
      "Epoch 77/100\n",
      "156/156 [==============================] - 0s 869us/step - loss: 0.0431 - accuracy: 0.9820\n",
      "Epoch 78/100\n",
      "156/156 [==============================] - 0s 819us/step - loss: 0.0427 - accuracy: 0.9839\n",
      "Epoch 79/100\n",
      "156/156 [==============================] - 0s 867us/step - loss: 0.0429 - accuracy: 0.9813\n",
      "Epoch 80/100\n",
      "156/156 [==============================] - 0s 886us/step - loss: 0.0463 - accuracy: 0.9826\n",
      "Epoch 81/100\n",
      "156/156 [==============================] - 0s 878us/step - loss: 0.0433 - accuracy: 0.9820\n",
      "Epoch 82/100\n",
      "156/156 [==============================] - 0s 902us/step - loss: 0.0430 - accuracy: 0.9832\n",
      "Epoch 83/100\n",
      "156/156 [==============================] - 0s 893us/step - loss: 0.0432 - accuracy: 0.9820\n",
      "Epoch 84/100\n",
      "156/156 [==============================] - 0s 844us/step - loss: 0.0422 - accuracy: 0.9845\n",
      "Epoch 85/100\n",
      "156/156 [==============================] - 0s 861us/step - loss: 0.0435 - accuracy: 0.9820\n",
      "Epoch 86/100\n",
      "156/156 [==============================] - 0s 848us/step - loss: 0.0430 - accuracy: 0.9826\n",
      "Epoch 87/100\n",
      "156/156 [==============================] - 0s 841us/step - loss: 0.0433 - accuracy: 0.9800\n",
      "Epoch 88/100\n",
      "156/156 [==============================] - 0s 881us/step - loss: 0.0433 - accuracy: 0.9832\n",
      "Epoch 89/100\n",
      "156/156 [==============================] - 0s 923us/step - loss: 0.0420 - accuracy: 0.9839\n",
      "Epoch 90/100\n",
      "156/156 [==============================] - 0s 832us/step - loss: 0.0460 - accuracy: 0.9813\n",
      "Epoch 91/100\n",
      "156/156 [==============================] - 0s 885us/step - loss: 0.0429 - accuracy: 0.9832\n",
      "Epoch 92/100\n",
      "156/156 [==============================] - 0s 871us/step - loss: 0.0424 - accuracy: 0.9820\n",
      "Epoch 93/100\n",
      "156/156 [==============================] - 0s 861us/step - loss: 0.0419 - accuracy: 0.9839\n",
      "Epoch 94/100\n",
      "156/156 [==============================] - 0s 821us/step - loss: 0.0413 - accuracy: 0.9832\n",
      "Epoch 95/100\n",
      "156/156 [==============================] - 0s 840us/step - loss: 0.0421 - accuracy: 0.9852\n",
      "Epoch 96/100\n",
      "156/156 [==============================] - 0s 847us/step - loss: 0.0406 - accuracy: 0.9832\n",
      "Epoch 97/100\n",
      "156/156 [==============================] - 0s 870us/step - loss: 0.0424 - accuracy: 0.9839\n",
      "Epoch 98/100\n",
      "156/156 [==============================] - 0s 827us/step - loss: 0.0444 - accuracy: 0.9813\n",
      "Epoch 99/100\n",
      "156/156 [==============================] - 0s 875us/step - loss: 0.0420 - accuracy: 0.9820\n",
      "Epoch 100/100\n",
      "156/156 [==============================] - 0s 1ms/step - loss: 0.0422 - accuracy: 0.9832\n"
     ]
    },
    {
     "data": {
      "text/plain": [
       "<keras.callbacks.History at 0x1a52d52da00>"
      ]
     },
     "execution_count": 57,
     "metadata": {},
     "output_type": "execute_result"
    }
   ],
   "source": [
    "model.fit(X,y,epochs=100,batch_size=10)"
   ]
  },
  {
   "cell_type": "markdown",
   "metadata": {},
   "source": [
    "### Evaluating NN for 2 phases"
   ]
  },
  {
   "cell_type": "code",
   "execution_count": 58,
   "metadata": {},
   "outputs": [],
   "source": [
    "y_pred = model.predict([test_phase_1[i] + test_phase_2[i] for i in range(len(test_phase_1))])"
   ]
  },
  {
   "cell_type": "code",
   "execution_count": 59,
   "metadata": {},
   "outputs": [],
   "source": [
    "y_pred = [1 if i >= 0.5 else 0 for i in y_pred]"
   ]
  },
  {
   "cell_type": "code",
   "execution_count": 60,
   "metadata": {},
   "outputs": [
    {
     "data": {
      "text/plain": [
       "array([[284,   9],\n",
       "       [ 11, 362]], dtype=int64)"
      ]
     },
     "execution_count": 60,
     "metadata": {},
     "output_type": "execute_result"
    }
   ],
   "source": [
    "metrics.confusion_matrix(y_test,y_pred)"
   ]
  },
  {
   "cell_type": "code",
   "execution_count": 61,
   "metadata": {},
   "outputs": [
    {
     "data": {
      "text/plain": [
       "0.96996996996997"
      ]
     },
     "execution_count": 61,
     "metadata": {},
     "output_type": "execute_result"
    }
   ],
   "source": [
    "metrics.accuracy_score(y_test,y_pred)"
   ]
  },
  {
   "cell_type": "markdown",
   "metadata": {},
   "source": [
    "### Using Genetic Algorithm with ANN"
   ]
  },
  {
   "cell_type": "code",
   "execution_count": 62,
   "metadata": {},
   "outputs": [],
   "source": [
    "import ANN\n",
    "import ga"
   ]
  },
  {
   "cell_type": "code",
   "execution_count": 63,
   "metadata": {},
   "outputs": [],
   "source": [
    "X = np.array(X)\n",
    "y = np.array(y)"
   ]
  },
  {
   "cell_type": "code",
   "execution_count": 64,
   "metadata": {},
   "outputs": [
    {
     "data": {
      "text/plain": [
       "(1552, 4)"
      ]
     },
     "execution_count": 64,
     "metadata": {},
     "output_type": "execute_result"
    }
   ],
   "source": [
    "X.shape"
   ]
  },
  {
   "cell_type": "code",
   "execution_count": 65,
   "metadata": {},
   "outputs": [],
   "source": [
    "sol_per_pop = 15\n",
    "num_parents_mating = 5\n",
    "num_generations = 1000\n",
    "mutation_percent = 10"
   ]
  },
  {
   "cell_type": "code",
   "execution_count": 66,
   "metadata": {},
   "outputs": [
    {
     "name": "stderr",
     "output_type": "stream",
     "text": [
      "C:\\Users\\Admin\\AppData\\Local\\Temp/ipykernel_15248/1730476142.py:14: VisibleDeprecationWarning: Creating an ndarray from ragged nested sequences (which is a list-or-tuple of lists-or-tuples-or ndarrays with different lengths or shapes) is deprecated. If you meant to do this, you must specify 'dtype=object' when creating the ndarray.\n",
      "  initial_pop_weights.append(np.array([input_HL1_weights,\n",
      "C:\\Users\\Admin\\anaconda3\\lib\\site-packages\\numpy\\core\\_asarray.py:102: VisibleDeprecationWarning: Creating an ndarray from ragged nested sequences (which is a list-or-tuple of lists-or-tuples-or ndarrays with different lengths or shapes) is deprecated. If you meant to do this, you must specify 'dtype=object' when creating the ndarray.\n",
      "  return array(a, dtype, copy=False, order=order)\n"
     ]
    },
    {
     "name": "stdout",
     "output_type": "stream",
     "text": [
      "0 Fitness\n",
      "[43.94329897 43.94329897 43.94329897 56.05670103 56.05670103 56.05670103\n",
      " 43.94329897 56.05670103 56.05670103 43.94329897 56.05670103 56.05670103\n",
      " 43.94329897 43.94329897 43.94329897]\n",
      "50 Fitness\n",
      "[95.6185567  93.94329897 93.55670103 92.97680412 92.46134021 56.05670103\n",
      " 43.94329897 43.94329897 43.94329897 56.05670103 56.05670103 56.05670103\n",
      " 68.87886598 43.94329897 56.05670103]\n",
      "100 Fitness\n",
      "[98.32474227 98.26030928 98.06701031 98.06701031 98.06701031 95.16752577\n",
      " 96.97164948 95.94072165 96.2628866  96.64948454 97.61597938 97.29381443\n",
      " 97.55154639 93.87886598 95.74742268]\n",
      "150 Fitness\n",
      "[98.32474227 98.32474227 98.32474227 98.32474227 98.26030928 90.65721649\n",
      " 59.14948454 38.33762887 97.68041237 98.06701031 95.81185567 94.78092784\n",
      " 43.94329897 79.25257732 98.1314433 ]\n",
      "200 Fitness\n",
      "[98.32474227 98.32474227 98.32474227 98.32474227 98.26030928 96.97164948\n",
      " 93.49226804 56.05670103 56.05670103 92.20360825 97.35824742 93.49226804\n",
      " 43.94329897 54.51030928 94.32989691]\n",
      "250 Fitness\n",
      "[98.32474227 98.32474227 98.32474227 98.32474227 98.26030928 95.81185567\n",
      " 43.94329897 56.05670103 43.94329897 50.45103093 95.55412371 93.49226804\n",
      " 43.94329897 94.20103093 96.90721649]\n",
      "300 Fitness\n",
      "[98.32474227 98.32474227 98.32474227 98.32474227 98.26030928 95.36082474\n",
      " 82.53865979 43.94329897 96.45618557 43.94329897 43.94329897 56.05670103\n",
      " 43.94329897 43.94329897 56.05670103]\n",
      "350 Fitness\n",
      "[98.32474227 98.32474227 98.32474227 98.32474227 98.26030928  5.54123711\n",
      " 43.94329897 43.94329897 97.03608247 95.87628866 56.05670103 43.94329897\n",
      " 43.94329897 95.74742268 43.94329897]\n",
      "400 Fitness\n",
      "[98.32474227 98.32474227 98.32474227 98.32474227 98.26030928 43.94329897\n",
      " 94.71649485 43.94329897 43.94329897 43.94329897 43.94329897 94.71649485\n",
      " 43.94329897 43.94329897 43.94329897]\n",
      "450 Fitness\n",
      "[98.32474227 98.32474227 98.32474227 98.32474227 98.26030928 43.94329897\n",
      " 43.94329897 43.94329897 95.29639175 59.47164948 43.94329897 43.94329897\n",
      " 43.94329897 43.94329897 93.49226804]\n",
      "500 Fitness\n",
      "[98.32474227 98.32474227 98.32474227 98.32474227 98.32474227 43.94329897\n",
      " 97.68041237 43.94329897 91.55927835 91.62371134 43.94329897 43.94329897\n",
      " 95.16752577 43.94329897 94.90979381]\n",
      "550 Fitness\n",
      "[98.32474227 98.32474227 98.32474227 98.32474227 98.32474227 43.75\n",
      " 98.1314433  43.94329897 43.94329897 93.87886598 42.20360825 95.87628866\n",
      " 43.94329897 43.94329897 97.93814433]\n",
      "600 Fitness\n",
      "[98.32474227 98.32474227 98.32474227 98.32474227 98.32474227 80.15463918\n",
      " 95.16752577 56.05670103 97.42268041 95.42525773 97.74484536 56.05670103\n",
      " 56.05670103 56.05670103 95.55412371]\n",
      "650 Fitness\n",
      "[98.32474227 98.32474227 98.32474227 98.32474227 98.32474227 95.03865979\n",
      " 56.05670103 43.94329897 56.05670103 97.4871134  96.00515464 56.05670103\n",
      " 84.66494845 56.05670103 43.94329897]\n",
      "700 Fitness\n",
      "[98.32474227 98.32474227 98.32474227 98.32474227 98.32474227 44.58762887\n",
      " 43.94329897 43.94329897 54.25257732 44.26546392 96.71391753 56.12113402\n",
      " 43.94329897 96.90721649 43.94329897]\n",
      "750 Fitness\n",
      "[98.32474227 98.32474227 98.32474227 98.32474227 98.32474227 97.61597938\n",
      " 94.71649485 43.94329897 97.10051546 11.01804124 43.94329897  5.21907216\n",
      " 97.68041237 43.94329897 43.94329897]\n",
      "800 Fitness\n",
      "[98.32474227 98.32474227 98.32474227 98.32474227 98.32474227 95.6185567\n",
      " 94.45876289 96.90721649 98.26030928 94.65206186 43.94329897 43.94329897\n",
      " 53.93041237 43.94329897 43.94329897]\n",
      "850 Fitness\n",
      "[98.32474227 98.32474227 98.32474227 98.32474227 98.32474227 82.92525773\n",
      " 97.16494845 94.26546392 43.94329897 93.42783505 43.94329897 56.44329897\n",
      " 43.94329897 43.94329897 56.05670103]\n",
      "900 Fitness\n",
      "[98.32474227 98.32474227 98.32474227 98.32474227 98.32474227 43.94329897\n",
      " 56.05670103 48.45360825 56.18556701 97.68041237 60.30927835 58.37628866\n",
      " 56.05670103 97.35824742 92.01030928]\n",
      "950 Fitness\n",
      "[98.32474227 98.32474227 98.32474227 98.32474227 98.32474227 43.94329897\n",
      " 43.94329897 60.50257732 43.94329897 59.27835052 43.94329897 56.44329897\n",
      " 43.94329897 43.94329897 43.94329897]\n",
      "Accuracy of the best solution is :  98.32474226804123\n"
     ]
    },
    {
     "data": {
      "image/png": "[encoded data removed]",
      "text/plain": [
       "<Figure size 432x288 with 1 Axes>"
      ]
     },
     "metadata": {
      "needs_background": "light"
     },
     "output_type": "display_data"
    }
   ],
   "source": [
    "\n",
    "#Creating the initial population.\n",
    "initial_pop_weights = []\n",
    "for curr_sol in np.arange(0, sol_per_pop):\n",
    "    HL1_neurons = 150\n",
    "    input_HL1_weights = np.random.uniform(low=-0.1, high=0.1, \n",
    "                                             size=(X.shape[1], HL1_neurons))\n",
    "    HL2_neurons = 60\n",
    "    HL1_HL2_weights = np.random.uniform(low=-0.1, high=0.1, \n",
    "                                             size=(HL1_neurons, HL2_neurons))\n",
    "    output_neurons = 2\n",
    "    HL2_output_weights = np.random.uniform(low=-0.1, high=0.1, \n",
    "                                              size=(HL2_neurons, output_neurons))\n",
    "\n",
    "    initial_pop_weights.append(np.array([input_HL1_weights, \n",
    "                                                HL1_HL2_weights, \n",
    "                                                HL2_output_weights]))\n",
    "\n",
    "pop_weights_mat = np.array(initial_pop_weights)\n",
    "pop_weights_vector = ga.mat_to_vector(pop_weights_mat)\n",
    "\n",
    "best_outputs = []\n",
    "accuracies = np.empty(shape=(num_generations))\n",
    "\n",
    "for generation in range(num_generations):\n",
    "    # print(\"Generation : \", generation)\n",
    "\n",
    "    # converting the solutions from being vectors to matrices.\n",
    "    pop_weights_mat = ga.vector_to_mat(pop_weights_vector, \n",
    "                                       pop_weights_mat)\n",
    "\n",
    "    # Measuring the fitness of each chromosome in the population.\n",
    "    fitness = ANN.fitness(pop_weights_mat, \n",
    "                          X, \n",
    "                          y, \n",
    "                          activation=\"sigmoid\")\n",
    "    accuracies[generation] = fitness[0]\n",
    "    if generation % 50 == 0:\n",
    "        print(\"{} Fitness\".format(generation))\n",
    "        print(fitness)\n",
    "\n",
    "    # Selecting the best parents in the population for mating.\n",
    "    parents = ga.select_mating_pool(pop_weights_vector, \n",
    "                                    fitness.copy(), \n",
    "                                    num_parents_mating)\n",
    "    # print(\"Parents\")\n",
    "    # print(parents)\n",
    "\n",
    "    # Generating next generation using crossover.\n",
    "    offspring_crossover = ga.crossover(parents,\n",
    "                                       offspring_size=(pop_weights_vector.shape[0]-parents.shape[0], pop_weights_vector.shape[1]))\n",
    "    # print(\"Crossover\")\n",
    "    # print(offspring_crossover)\n",
    "\n",
    "    # Adding some variations to the offsrping using mutation.\n",
    "    offspring_mutation = ga.mutation(offspring_crossover, \n",
    "                                     mutation_percent=mutation_percent)\n",
    "    # print(\"Mutation\")\n",
    "    # print(offspring_mutation)\n",
    "\n",
    "    # Creating the new population based on the parents and offspring.\n",
    "    pop_weights_vector[0:parents.shape[0], :] = parents\n",
    "    pop_weights_vector[parents.shape[0]:, :] = offspring_mutation\n",
    "\n",
    "pop_weights_mat = ga.vector_to_mat(pop_weights_vector, pop_weights_mat)\n",
    "best_weights = pop_weights_mat [0, :]\n",
    "acc, predictions = ANN.predict_outputs(best_weights, X, y, activation=\"sigmoid\")\n",
    "print(\"Accuracy of the best solution is : \", acc)\n",
    "\n",
    "plt.plot(accuracies, linewidth=5, color=\"black\")\n",
    "plt.xlabel(\"Iteration\", fontsize=20)\n",
    "plt.ylabel(\"Fitness\", fontsize=20)\n",
    "plt.xticks(np.arange(0, num_generations+1, 100), fontsize=15)\n",
    "plt.yticks(np.arange(0, 101, 5), fontsize=15)\n",
    "plt.show()\n"
   ]
  },
  {
   "cell_type": "code",
   "execution_count": 67,
   "metadata": {},
   "outputs": [],
   "source": [
    "# Save weight of GA with ANN\n",
    "f = open(\"weights_\"+str(num_generations)+\"_iterations_\"+str(mutation_percent)+\"%_mutation.pkl\", \"wb\")\n",
    "pickle.dump(pop_weights_mat, f)\n",
    "f.close()"
   ]
  },
  {
   "cell_type": "markdown",
   "metadata": {},
   "source": [
    "### Evaluating Generic algorithm with ANN"
   ]
  },
  {
   "cell_type": "code",
   "execution_count": 68,
   "metadata": {},
   "outputs": [],
   "source": [
    "X_ga_test = np.array([test_phase_1[i] + test_phase_2[i] for i in range(len(test_phase_1))])\n",
    "y_ga_test = np.array(y_test)"
   ]
  },
  {
   "cell_type": "code",
   "execution_count": 69,
   "metadata": {},
   "outputs": [],
   "source": [
    "acc, predictions = ANN.predict_outputs(best_weights, X_ga_test, y_ga_test, activation=\"sigmoid\")"
   ]
  },
  {
   "cell_type": "code",
   "execution_count": 70,
   "metadata": {},
   "outputs": [
    {
     "data": {
      "text/plain": [
       "array([[279,  14],\n",
       "       [  8, 365]], dtype=int64)"
      ]
     },
     "execution_count": 70,
     "metadata": {},
     "output_type": "execute_result"
    }
   ],
   "source": [
    "metrics.confusion_matrix(y_ga_test,predictions)"
   ]
  },
  {
   "cell_type": "code",
   "execution_count": 71,
   "metadata": {},
   "outputs": [
    {
     "data": {
      "text/plain": [
       "96.69669669669669"
      ]
     },
     "execution_count": 71,
     "metadata": {},
     "output_type": "execute_result"
    }
   ],
   "source": [
    "acc"
   ]
  },
  {
   "cell_type": "code",
   "execution_count": 79,
   "metadata": {},
   "outputs": [],
   "source": [
    "with open(\"X.pkl\", \"wb\") as f:\n",
    "    pickle.dump(X, f)\n",
    "with open(\"y.pkl\", \"wb\") as f:\n",
    "    pickle.dump(y, f)\n",
    "with open(\"X_ga_test.pkl\", \"wb\") as f:\n",
    "    pickle.dump(X_ga_test, f)\n",
    "with open(\"y_ga_test.pkl\", \"wb\") as f:\n",
    "    pickle.dump(y_ga_test, f)\n"
   ]
  },
  {
   "cell_type": "markdown",
   "metadata": {},
   "source": [
    "### Using Genetic algorithm"
   ]
  },
  {
   "cell_type": "code",
   "execution_count": 85,
   "metadata": {},
   "outputs": [],
   "source": [
    "import pickle\n",
    "import pygad\n",
    "import math"
   ]
  },
  {
   "cell_type": "code",
   "execution_count": 86,
   "metadata": {},
   "outputs": [],
   "source": [
    "# Thêm dãy số phần tử 1 vào cuối mỗi record\n",
    "one = np.ones((X.shape[0], 1))\n",
    "X = np.concatenate((X,one), axis = 1)\n",
    "one = np.ones((X_ga_test.shape[0], 1))\n",
    "X_ga_test = np.concatenate((X_ga_test,one), axis = 1)"
   ]
  },
  {
   "cell_type": "code",
   "execution_count": 87,
   "metadata": {},
   "outputs": [],
   "source": [
    "def sigmoid(x):\n",
    "    \"\"\"Tính sigmoid\"\"\"\n",
    "    return 1/(1+math.exp(-x))\n",
    "\n",
    "def get_test_acc(w):\n",
    "    \"\"\"Tính đọ chính xác của tập test\"\"\"\n",
    "    store = np.zeros(X_ga_test.shape[0])\n",
    "    for idx,x in enumerate(X_ga_test):\n",
    "        t = w.dot(x)\n",
    "        if sigmoid(t) < 0.5:\n",
    "            store[idx] = 1\n",
    "    acc = (store==y_ga_test).sum()/X_ga_test.shape[0]\n",
    "    return acc\n",
    "def get_acc(w):\n",
    "    \"\"\"Tính độ chính xác của tập train\"\"\"\n",
    "    store = np.zeros(X.shape[0])\n",
    "    for idx,x in enumerate(X):\n",
    "        t = w.dot(x)\n",
    "        if sigmoid(t) < 0.5:\n",
    "            store[idx] = 1\n",
    "    acc = (store==y).sum()/X.shape[0]\n",
    "    return acc"
   ]
  },
  {
   "cell_type": "code",
   "execution_count": 88,
   "metadata": {},
   "outputs": [],
   "source": [
    "def fitness_func(solution, solution_idx):\n",
    "    \"\"\"Định nghĩa hàm fitness, sử dụng hàm sigmoid\"\"\"\n",
    "    fitness = get_acc(solution)\n",
    "    return fitness"
   ]
  },
  {
   "cell_type": "code",
   "execution_count": 89,
   "metadata": {},
   "outputs": [],
   "source": [
    "# Xây dựng các thông số cần thiết để chạy GA\n",
    "sol_per_pop = 200\n",
    "num_genes = X.shape[1]\n",
    "\n",
    "init_range_low = -1\n",
    "init_range_high = -0.5\n",
    "\n",
    "mutation_percent_genes = 10\n",
    "num_generations = 1000\n",
    "num_parents_mating = 30"
   ]
  },
  {
   "cell_type": "code",
   "execution_count": 90,
   "metadata": {},
   "outputs": [],
   "source": [
    "ga_instance = pygad.GA(num_generations=num_generations,\n",
    "                       num_parents_mating=num_parents_mating, \n",
    "                       fitness_func=fitness_func,\n",
    "                       sol_per_pop=sol_per_pop, \n",
    "                       num_genes=num_genes,\n",
    "                       init_range_low=init_range_low,\n",
    "                       init_range_high=init_range_high,\n",
    "                       mutation_percent_genes=mutation_percent_genes)"
   ]
  },
  {
   "cell_type": "code",
   "execution_count": 91,
   "metadata": {},
   "outputs": [
    {
     "data": {
      "image/png": "[encoded data removed]",
      "text/plain": [
       "<Figure size 432x288 with 1 Axes>"
      ]
     },
     "metadata": {
      "needs_background": "light"
     },
     "output_type": "display_data"
    }
   ],
   "source": [
    "# Tiến hành chạy và in ra sơ đồ\n",
    "ga_instance.run()\n",
    "ga_instance.plot_result()"
   ]
  },
  {
   "cell_type": "code",
   "execution_count": 92,
   "metadata": {},
   "outputs": [
    {
     "name": "stdout",
     "output_type": "stream",
     "text": [
      "Parameters of the best solution : [-0.1369321   0.08634833 -0.33926826  4.84338126 -0.01599282  0.17770941]\n",
      "Fitness value of the best solution = 0.9845360824742269\n"
     ]
    }
   ],
   "source": [
    "# In ra kết quả của GA\n",
    "solution, solution_fitness = ga_instance.best_solution()\n",
    "print(\"Parameters of the best solution : {solution}\".format(solution=solution))\n",
    "print(\"Fitness value of the best solution = {solution_fitness}\".format(solution_fitness=solution_fitness))"
   ]
  },
  {
   "cell_type": "code",
   "execution_count": 93,
   "metadata": {},
   "outputs": [
    {
     "data": {
      "text/plain": [
       "0.9669669669669669"
      ]
     },
     "execution_count": 93,
     "metadata": {},
     "output_type": "execute_result"
    }
   ],
   "source": [
    "get_test_acc(solution)"
   ]
  }
 ],
 "metadata": {
  "interpreter": {
   "hash": "183bbf6827d058c2a2fb0f4acdc0420849dda2b4380af0e437e38c64d798d8b7"
  },
  "kernelspec": {
   "display_name": "Python 3.8.8 64-bit ('base': conda)",
   "name": "python3"
  },
  "language_info": {
   "codemirror_mode": {
    "name": "ipython",
    "version": 3
   },
   "file_extension": ".py",
   "mimetype": "text/x-python",
   "name": "python",
   "nbconvert_exporter": "python",
   "pygments_lexer": "ipython3",
   "version": "3.8.8"
  },
  "orig_nbformat": 4
 },
 "nbformat": 4,
 "nbformat_minor": 2
}
