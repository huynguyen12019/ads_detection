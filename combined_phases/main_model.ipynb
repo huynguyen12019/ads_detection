{
 "cells": [
  {
   "cell_type": "markdown",
   "metadata": {},
   "source": [
    "## Phase 1:\n",
    "-   CTPN\n",
    "-   SVN"
   ]
  },
  {
   "cell_type": "markdown",
   "metadata": {},
   "source": [
    "### Load file path"
   ]
  },
  {
   "cell_type": "code",
   "execution_count": 2,
   "metadata": {},
   "outputs": [],
   "source": [
    "from os import walk\n",
    "import numpy as np\n",
    "import matplotlib.pyplot as plt\n",
    "import PIL\n",
    "from sklearn.model_selection import train_test_split\n",
    "import sklearn.metrics as metrics"
   ]
  },
  {
   "cell_type": "code",
   "execution_count": 3,
   "metadata": {},
   "outputs": [],
   "source": [
    "# get link of ads and non ads images\n",
    "from os import walk\n",
    "f = []\n",
    "ctpn_output_path = \"../data/dataset/ctpn_output/testing_data/\"\n",
    "for dirpath, dirnames, filenames in os.walk(ctpn_output_path):\n",
    "    f.append(filenames)\n",
    "    break\n",
    "f = f[0]"
   ]
  },
  {
   "cell_type": "code",
   "execution_count": 4,
   "metadata": {},
   "outputs": [],
   "source": [
    "ads_data = []\n",
    "for name in f:\n",
    "    ads_data.append([i[:-1] for i in open(ctpn_output_path + name,'r').readlines() if i !=\"\\n\"])"
   ]
  },
  {
   "cell_type": "markdown",
   "metadata": {},
   "source": [
    "Get height and width of image"
   ]
  },
  {
   "cell_type": "code",
   "execution_count": 5,
   "metadata": {},
   "outputs": [],
   "source": [
    "img_path = \"../data/dataset/testing_data\"\n",
    "hw_ads = [PIL.Image.open(img_path + \"/\" + name[:-3] + \"png\").size for name in f] "
   ]
  },
  {
   "cell_type": "code",
   "execution_count": 6,
   "metadata": {},
   "outputs": [],
   "source": [
    "def extract_info(arr):\n",
    "    arr = [int(i) for i in arr.split(\",\")[:-1]]\n",
    "    h_b = arr[-1]-arr[1]\n",
    "    w_b = arr[2] - arr[0]\n",
    "    h_cb = (arr[-1]+arr[1])//2\n",
    "    w_cb = (arr[2]+arr[0])//2\n",
    "    return h_b,w_b,h_cb,w_cb"
   ]
  },
  {
   "cell_type": "code",
   "execution_count": 7,
   "metadata": {},
   "outputs": [],
   "source": [
    "def sort_weight(bb, temp_scale,temp_distance=None):\n",
    "    if temp_distance != None:\n",
    "        temp_scale_sort = sorted(temp_scale)\n",
    "        temp_distance_sort = sorted(temp_distance)\n",
    "        bb_t = set()\n",
    "        for distance in temp_distance_sort[-n_att:]:\n",
    "            bb_t.add(bb[temp_distance_sort.index(distance)])\n",
    "        for scale in temp_scale_sort[-n_att:]:\n",
    "            bb_t.add(bb[temp_scale_sort.index(scale)])\n",
    "        return list(bb_t),temp_scale_sort[-n_att:] + temp_distance_sort[-n_att:]\n",
    "    else:\n",
    "        w = sorted(temp_scale)\n",
    "        bb_t = []\n",
    "        for i in range(n_att):\n",
    "            bb_t.append(bb[temp_scale.index(w[-n_att+i])])\n",
    "        return bb_t,w[-n_att:]"
   ]
  },
  {
   "cell_type": "markdown",
   "metadata": {},
   "source": [
    "$$x = max(H_b/W_b) +...+ max ((|H_cb-H_c+1)*(|W_cb-W_c+1)/(H_c*W_c))$$"
   ]
  },
  {
   "cell_type": "code",
   "execution_count": 8,
   "metadata": {},
   "outputs": [],
   "source": [
    "n_att = 10\n",
    "w_ads = []\n",
    "for bbs,hw in zip(ads_data,hw_ads):\n",
    "    if len(bbs) <n_att:\n",
    "        continue\n",
    "    temp_scale = []\n",
    "    temp_distance = []\n",
    "    for bb in bbs:\n",
    "        h_b,w_b,h_cb,w_cb =extract_info(bb)\n",
    "        weight = (3*h_b*(abs(h_cb-hw[1])+1)*(abs(w_cb-hw[0])+1))/w_b\n",
    "        temp_scale.append(h_b/w_b)\n",
    "        temp_distance.append((abs(h_cb-hw[1])+1)*(abs(w_cb-hw[0])+1)/(hw[0]*hw[1]))\n",
    "    bb_t, w_t = sort_weight(bbs, temp_scale,temp_distance)\n",
    "    w_ads.append(w_t)\n"
   ]
  },
  {
   "cell_type": "code",
   "execution_count": 9,
   "metadata": {},
   "outputs": [],
   "source": [
    "X = w_ads \n",
    "y = [0]*len(w_ads)\n",
    "for i in range(len(f)):\n",
    "    if f[i][:3] == \"ads\":\n",
    "        y[i] = 1"
   ]
  },
  {
   "cell_type": "markdown",
   "metadata": {},
   "source": [
    "## Load SVM by joblid"
   ]
  },
  {
   "cell_type": "code",
   "execution_count": 10,
   "metadata": {},
   "outputs": [],
   "source": [
    "import joblib\n",
    "import sklearn.metrics as metrics"
   ]
  },
  {
   "cell_type": "code",
   "execution_count": 11,
   "metadata": {},
   "outputs": [],
   "source": [
    "clf2 = joblib.load(\"../phase_1/svm_phase_1_v2.pkl\")\n",
    "clf2.probability = True\n",
    "phase_1 = clf2.predict_proba(X)"
   ]
  },
  {
   "cell_type": "code",
   "execution_count": 12,
   "metadata": {},
   "outputs": [
    {
     "data": {
      "text/plain": [
       "[1, 1, 1, 1, 1, 1, 1, 1, 1, 1]"
      ]
     },
     "execution_count": 12,
     "metadata": {},
     "output_type": "execute_result"
    }
   ],
   "source": [
    "y[:10]"
   ]
  },
  {
   "cell_type": "code",
   "execution_count": 13,
   "metadata": {},
   "outputs": [
    {
     "data": {
      "text/plain": [
       "array([[0.933063  , 0.066937  ],\n",
       "       [0.50871309, 0.49128691],\n",
       "       [0.81066628, 0.18933372],\n",
       "       [0.935897  , 0.064103  ],\n",
       "       [0.89435872, 0.10564128],\n",
       "       [0.97046407, 0.02953593],\n",
       "       [0.91238628, 0.08761372],\n",
       "       [0.97517162, 0.02482838],\n",
       "       [0.44327505, 0.55672495],\n",
       "       [0.47605008, 0.52394992]])"
      ]
     },
     "execution_count": 13,
     "metadata": {},
     "output_type": "execute_result"
    }
   ],
   "source": [
    "phase_1[:10]"
   ]
  },
  {
   "cell_type": "code",
   "execution_count": 14,
   "metadata": {},
   "outputs": [],
   "source": [
    "y_phase1 = [0] * len(y)\n",
    "for i,r in enumerate(phase_1):\n",
    "    if r[0] > r[1]:\n",
    "        y_phase1[i] = 1"
   ]
  },
  {
   "cell_type": "code",
   "execution_count": 15,
   "metadata": {},
   "outputs": [
    {
     "data": {
      "text/plain": [
       "array([[266,  27],\n",
       "       [ 23, 350]], dtype=int64)"
      ]
     },
     "execution_count": 15,
     "metadata": {},
     "output_type": "execute_result"
    }
   ],
   "source": [
    "metrics.confusion_matrix(y,y_phase1)"
   ]
  },
  {
   "cell_type": "code",
   "execution_count": 16,
   "metadata": {},
   "outputs": [
    {
     "data": {
      "text/plain": [
       "0.924924924924925"
      ]
     },
     "execution_count": 16,
     "metadata": {},
     "output_type": "execute_result"
    }
   ],
   "source": [
    "metrics.accuracy_score(y,y_phase1)"
   ]
  },
  {
   "cell_type": "markdown",
   "metadata": {},
   "source": [
    "## Phase 2:\n",
    "-   Xception"
   ]
  },
  {
   "cell_type": "code",
   "execution_count": 17,
   "metadata": {},
   "outputs": [],
   "source": [
    "from tensorflow.keras.models import load_model\n",
    "import os"
   ]
  },
  {
   "cell_type": "code",
   "execution_count": 18,
   "metadata": {},
   "outputs": [],
   "source": [
    "from PIL import Image\n",
    "import numpy as np\n",
    "from skimage import transform\n",
    "import shutil\n",
    "import keras\n",
    "import tensorflow as tf"
   ]
  },
  {
   "cell_type": "code",
   "execution_count": 19,
   "metadata": {},
   "outputs": [],
   "source": [
    "def load(filename):\n",
    "    np_image = Image.open(filename)\n",
    "    np_image = np.array(np_image).astype('float32')\n",
    "    np_image = transform.resize(np_image,(180,180,3))\n",
    "    np_image = np.expand_dims(np_image, axis = 0)\n",
    "    return np_image"
   ]
  },
  {
   "cell_type": "code",
   "execution_count": 20,
   "metadata": {},
   "outputs": [],
   "source": [
    "model = load_model('../phase_2/xception/model/save_at_40.h5')"
   ]
  },
  {
   "cell_type": "code",
   "execution_count": 21,
   "metadata": {},
   "outputs": [],
   "source": [
    "ads_path = \"../data/dataset/testing_data/\""
   ]
  },
  {
   "cell_type": "code",
   "execution_count": 22,
   "metadata": {},
   "outputs": [],
   "source": [
    "phase_2 = []\n",
    "for name in f:\n",
    "    r =model.predict(load(ads_path + name[:-3] + \"png\"))\n",
    "    phase_2.append([1-r[0][0], r[0][0]])"
   ]
  },
  {
   "cell_type": "code",
   "execution_count": 23,
   "metadata": {},
   "outputs": [
    {
     "data": {
      "text/plain": [
       "[[0.9996516704559326, 0.00034832954],\n",
       " [0.9999997151579407, 2.8484206e-07],\n",
       " [0.9999689133983338, 3.10866e-05],\n",
       " [0.9995241463184357, 0.00047585368],\n",
       " [0.9996791481971741, 0.0003208518],\n",
       " [0.9999999972622811, 2.737719e-09],\n",
       " [0.99847012758255, 0.0015298724],\n",
       " [0.9999999709479699, 2.905203e-08],\n",
       " [0.9999993381081822, 6.618918e-07],\n",
       " [0.9999999221356433, 7.786436e-08]]"
      ]
     },
     "execution_count": 23,
     "metadata": {},
     "output_type": "execute_result"
    }
   ],
   "source": [
    "phase_2[:10]"
   ]
  },
  {
   "cell_type": "code",
   "execution_count": 24,
   "metadata": {},
   "outputs": [],
   "source": [
    "y_phase2 = [0]*len(y)\n",
    "for i,r in enumerate(phase_2):\n",
    "    if r[0] > r[1]:\n",
    "        y_phase2[i] = 1"
   ]
  },
  {
   "cell_type": "code",
   "execution_count": 25,
   "metadata": {},
   "outputs": [
    {
     "data": {
      "text/plain": [
       "array([[245,  48],\n",
       "       [  6, 367]], dtype=int64)"
      ]
     },
     "execution_count": 25,
     "metadata": {},
     "output_type": "execute_result"
    }
   ],
   "source": [
    "metrics.confusion_matrix(y,y_phase2)"
   ]
  },
  {
   "cell_type": "code",
   "execution_count": 26,
   "metadata": {},
   "outputs": [
    {
     "data": {
      "text/plain": [
       "0.918918918918919"
      ]
     },
     "execution_count": 26,
     "metadata": {},
     "output_type": "execute_result"
    }
   ],
   "source": [
    "metrics.accuracy_score(y,y_phase2)"
   ]
  },
  {
   "cell_type": "markdown",
   "metadata": {},
   "source": [
    "### Save results of phase_1 and phase_2"
   ]
  },
  {
   "cell_type": "code",
   "execution_count": 27,
   "metadata": {},
   "outputs": [],
   "source": [
    "import pickle"
   ]
  },
  {
   "cell_type": "code",
   "execution_count": 28,
   "metadata": {},
   "outputs": [],
   "source": [
    "with open(\"./phase_1.pkl\", \"wb\") as f:\n",
    "    pickle.dump([list(i) for i in phase_1],f)\n",
    "with open(\"./phase_2.pkl\", \"wb\") as f:\n",
    "    pickle.dump(phase_2,f)"
   ]
  },
  {
   "cell_type": "markdown",
   "metadata": {},
   "source": [
    "### Load phase_1 and phase_2"
   ]
  },
  {
   "cell_type": "code",
   "execution_count": 37,
   "metadata": {},
   "outputs": [],
   "source": [
    "# with open(\"./phase_1.pkl\", \"rb\") as f:\n",
    "#     phase_1 = pickle.load(f)\n",
    "# with open(\"./phase_2.pkl\", \"rb\") as f:\n",
    "#     phase_2 = pickle.load(f)"
   ]
  },
  {
   "cell_type": "markdown",
   "metadata": {},
   "source": [
    "## Evaluating model"
   ]
  },
  {
   "cell_type": "code",
   "execution_count": 29,
   "metadata": {},
   "outputs": [],
   "source": [
    "\n",
    "import seaborn as sn\n",
    "import matplotlib.pyplot as plt\n",
    "import pandas as pd"
   ]
  },
  {
   "cell_type": "code",
   "execution_count": 30,
   "metadata": {},
   "outputs": [],
   "source": [
    "y_pred = [0]*len(y)\n",
    "for i in range(len(y)):\n",
    "    ads_r = (phase_1[i][0] + phase_2[i][0])/2\n",
    "    non_ads_r = (phase_1[i][1] + phase_2[i][1])/2\n",
    "    if ads_r > non_ads_r:\n",
    "        y_pred[i] = 1"
   ]
  },
  {
   "cell_type": "code",
   "execution_count": 31,
   "metadata": {},
   "outputs": [
    {
     "name": "stdout",
     "output_type": "stream",
     "text": [
      "Confusion matrix: \n",
      " [[273  20]\n",
      " [  6 367]]\n"
     ]
    }
   ],
   "source": [
    "r = metrics.confusion_matrix(y, y_pred)\n",
    "print(\"Confusion matrix: \\n\", r)"
   ]
  },
  {
   "cell_type": "code",
   "execution_count": 32,
   "metadata": {},
   "outputs": [
    {
     "name": "stdout",
     "output_type": "stream",
     "text": [
      "Accuracy:  0.960960960960961\n"
     ]
    }
   ],
   "source": [
    "acc = metrics.accuracy_score(y, y_pred)\n",
    "print(\"Accuracy: \", acc)"
   ]
  },
  {
   "cell_type": "code",
   "execution_count": 33,
   "metadata": {},
   "outputs": [
    {
     "data": {
      "text/plain": [
       "<AxesSubplot:>"
      ]
     },
     "execution_count": 33,
     "metadata": {},
     "output_type": "execute_result"
    },
    {
     "data": {
      "image/png": "[encoded data removed]",
      "text/plain": [
       "<Figure size 360x360 with 2 Axes>"
      ]
     },
     "metadata": {
      "needs_background": "light"
     },
     "output_type": "display_data"
    }
   ],
   "source": [
    "df_cm = pd.DataFrame(r, index = ['non_ads','ads'],\n",
    "                  columns = ['non_ads','ads'])\n",
    "plt.figure(figsize = (5,5))\n",
    "sn.heatmap(df_cm, annot=True)"
   ]
  }
 ],
 "metadata": {
  "interpreter": {
   "hash": "183bbf6827d058c2a2fb0f4acdc0420849dda2b4380af0e437e38c64d798d8b7"
  },
  "kernelspec": {
   "display_name": "Python 3.8.8 64-bit ('base': conda)",
   "name": "python3"
  },
  "language_info": {
   "codemirror_mode": {
    "name": "ipython",
    "version": 3
   },
   "file_extension": ".py",
   "mimetype": "text/x-python",
   "name": "python",
   "nbconvert_exporter": "python",
   "pygments_lexer": "ipython3",
   "version": "3.8.8"
  },
  "orig_nbformat": 4
 },
 "nbformat": 4,
 "nbformat_minor": 2
}
