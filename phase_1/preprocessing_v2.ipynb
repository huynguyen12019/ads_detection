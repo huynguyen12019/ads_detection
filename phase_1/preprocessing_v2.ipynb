{
 "cells": [
  {
   "cell_type": "code",
   "execution_count": 1,
   "source": [
    "from os import walk\r\n",
    "import numpy as np\r\n",
    "import matplotlib.pyplot as plt\r\n",
    "import PIL"
   ],
   "outputs": [],
   "metadata": {}
  },
  {
   "cell_type": "code",
   "execution_count": 2,
   "source": [
    "# get link of ads and non ads images\r\n",
    "from os import walk\r\n",
    "f = []\r\n",
    "ctpn_output_path = \"../data/dataset/ctpn_output/training_data/\"\r\n",
    "for dirpath, dirnames, filenames in os.walk(ctpn_output_path):\r\n",
    "    f.append(filenames)\r\n",
    "    break\r\n",
    "f = f[0]"
   ],
   "outputs": [],
   "metadata": {}
  },
  {
   "cell_type": "markdown",
   "source": [
    "Thống kê đánh giá dữ liệu"
   ],
   "metadata": {}
  },
  {
   "cell_type": "code",
   "execution_count": 3,
   "source": [
    "ads_data = []\r\n",
    "non_ads_data = []\r\n",
    "ads_name = []\r\n",
    "non_ads_name = []\r\n",
    "for name in f:\r\n",
    "    if \"ads\" == name[:3]:\r\n",
    "        ads_data.append([i[:-1] for i in open(ctpn_output_path + name,'r').readlines() if i !=\"\\n\"])\r\n",
    "        ads_name.append(name)\r\n",
    "    else:\r\n",
    "        non_ads_data.append([i[:-1] for i in open(ctpn_output_path + name,'r').readlines() if i !=\"\\n\"])\r\n",
    "        non_ads_name.append(name)\r\n",
    "# ads_data = np.array(ads_data)\r\n",
    "# non_ads_data = np.array(non_ads_data)\r\n"
   ],
   "outputs": [],
   "metadata": {}
  },
  {
   "cell_type": "code",
   "execution_count": 4,
   "source": [
    "len_ads_data = np.array([len(i) for i in ads_data])\r\n",
    "len_non_ads_data = np.array([len(i) for i in non_ads_data])\r\n",
    "bb_ads = [sum(len_ads_data>i) for i in range(10,40)]\r\n",
    "bb_non_ads = [sum(len_non_ads_data>i) for i in range(10,40)]\r\n"
   ],
   "outputs": [],
   "metadata": {}
  },
  {
   "cell_type": "code",
   "execution_count": 5,
   "source": [
    "plt.plot(range(10,40),bb_ads,label=\"demo\",)\r\n",
    "plt.plot(range(10,40),bb_non_ads)\r\n",
    "plt.title(\"Number of bouding box greater than 10 to 40\")\r\n",
    "plt.xlabel(\"number of bounding box\")\r\n",
    "plt.ylabel(\"number of image\")"
   ],
   "outputs": [
    {
     "output_type": "execute_result",
     "data": {
      "text/plain": [
       "Text(0, 0.5, 'number of image')"
      ]
     },
     "metadata": {},
     "execution_count": 5
    },
    {
     "output_type": "display_data",
     "data": {
      "image/png": "[encoded data removed]",
      "text/plain": [
       "<Figure size 432x288 with 1 Axes>"
      ]
     },
     "metadata": {
      "needs_background": "light"
     }
    }
   ],
   "metadata": {}
  },
  {
   "cell_type": "markdown",
   "source": [
    "Get 10 bouding box - 5 greatest and 5 smallest"
   ],
   "metadata": {}
  },
  {
   "cell_type": "markdown",
   "source": [
    "Get height and width of image"
   ],
   "metadata": {}
  },
  {
   "cell_type": "code",
   "execution_count": 6,
   "source": [
    "img_ads_path = \"../data/dataset/training_data/ads\"\r\n",
    "img_non_ads_path = \"../data/dataset/training_data/non_ads\"\r\n",
    "hw_ads = [PIL.Image.open(img_ads_path + \"/\" + name[:-3] + \"png\").size for name in f if 'ads' == name[:3]]\r\n",
    "hw_non_ads = [PIL.Image.open(img_non_ads_path +\"/\"+ name[:-3] + \"png\").size for name in f if 'ads' != name[:3]]\r\n"
   ],
   "outputs": [],
   "metadata": {}
  },
  {
   "cell_type": "markdown",
   "source": [
    "Set weight of images"
   ],
   "metadata": {}
  },
  {
   "cell_type": "markdown",
   "source": [
    "$$x = max(H_b/W_b) +...+ max ((|H_cb-H_c+1)(|W_cb-W_c+1))$$"
   ],
   "metadata": {}
  },
  {
   "cell_type": "code",
   "execution_count": 7,
   "source": [
    "def extract_info(arr):\r\n",
    "    arr = [int(i) for i in arr.split(\",\")[:-1]]\r\n",
    "    h_b = arr[-1]-arr[1]\r\n",
    "    w_b = arr[2] - arr[0]\r\n",
    "    h_cb = (arr[-1]+arr[1])//2\r\n",
    "    w_cb = (arr[2]+arr[0])//2\r\n",
    "    return h_b,w_b,h_cb,w_cb"
   ],
   "outputs": [],
   "metadata": {}
  },
  {
   "cell_type": "code",
   "execution_count": 36,
   "source": [
    "def sort_weight(bb, temp_scale,temp_distance):\r\n",
    "    temp_scale_sort = sorted(temp_scale)\r\n",
    "    temp_distance_sort = sorted(temp_distance)\r\n",
    "    bb_t = []\r\n",
    "    return bb_t,temp_scale_sort[-n_att:] + temp_distance_sort[-n_att:]\r\n"
   ],
   "outputs": [],
   "metadata": {}
  },
  {
   "cell_type": "code",
   "execution_count": 9,
   "source": [
    "extract_info(ads_data[0][0])"
   ],
   "outputs": [
    {
     "output_type": "execute_result",
     "data": {
      "text/plain": [
       "(25, 192, 344, 608)"
      ]
     },
     "metadata": {},
     "execution_count": 9
    }
   ],
   "metadata": {}
  },
  {
   "cell_type": "markdown",
   "source": [
    "### Save weight as csv file"
   ],
   "metadata": {}
  },
  {
   "cell_type": "code",
   "execution_count": 26,
   "source": [
    "import pandas as pd"
   ],
   "outputs": [],
   "metadata": {}
  },
  {
   "cell_type": "code",
   "execution_count": 30,
   "source": [
    "data_scale = []\r\n",
    "data_distance = []"
   ],
   "outputs": [],
   "metadata": {}
  },
  {
   "cell_type": "code",
   "execution_count": 40,
   "source": [
    "n_att = 10\r\n",
    "w_ads = []\r\n",
    "ads_name_filted =[]\r\n",
    "for name,bbs,hw in zip(ads_name,ads_data,hw_ads):\r\n",
    "    if len(bbs) <n_att:\r\n",
    "        continue\r\n",
    "    temp_scale = []\r\n",
    "    temp_distance = []\r\n",
    "    for bb in bbs:\r\n",
    "        h_b,w_b,h_cb,w_cb =extract_info(bb)\r\n",
    "        weight = (3*h_b*(abs(h_cb-hw[1])+1)*(abs(w_cb-hw[0])+1))/w_b\r\n",
    "        # save data of weight\r\n",
    "        data_scale.append(h_b/w_b)\r\n",
    "        data_distance.append((abs(h_cb-hw[1])+1)*(abs(w_cb-hw[0])+1))\r\n",
    "        # append weight\r\n",
    "        temp_scale.append(h_b/w_b*1000000)\r\n",
    "        temp_distance.append((abs(h_cb-hw[1])+1)*(abs(w_cb-hw[0])+1))\r\n",
    "    bb_t, w_t = sort_weight(bbs, temp_scale,temp_distance)\r\n",
    "    ads_name_filted.append([name, bb_t])\r\n",
    "    w_ads.append(w_t)\r\n",
    "    # w_ads.append(temp[:5] + temp[-5:])\r\n",
    "w_non_ads = []\r\n",
    "non_ads_name_filted = []\r\n",
    "for name,bbs,hw in zip(non_ads_name,non_ads_data,hw_non_ads):\r\n",
    "    if len(bbs) <n_att:\r\n",
    "        continue\r\n",
    "    temp_scale = []\r\n",
    "    temp_distance = []\r\n",
    "    for bb in bbs:\r\n",
    "        h_b,w_b,h_cb,w_cb =extract_info(bb)\r\n",
    "        weight = (3*h_b*(abs(h_cb-hw[1])+1)*(abs(w_cb-hw[0])+1))/w_b\r\n",
    "        # save data of weight\r\n",
    "        data_scale.append(h_b/w_b)\r\n",
    "        data_distance.append((abs(h_cb-hw[1])+1)*(abs(w_cb-hw[0])+1))\r\n",
    "        # append weight\r\n",
    "        temp_scale.append(h_b/w_b*1000000)\r\n",
    "        temp_distance.append((abs(h_cb-hw[1])+1)*(abs(w_cb-hw[0])+1))\r\n",
    "    bb_t, w_t = sort_weight(bbs, temp_scale,temp_distance)\r\n",
    "    non_ads_name_filted.append([name, bb_t])\r\n",
    "    w_non_ads.append(w_t)\r\n",
    "    # temp = sorted(temp)\r\n",
    "    # w_non_ads.append(temp[:5] + temp[-5:])\r\n"
   ],
   "outputs": [],
   "metadata": {}
  },
  {
   "cell_type": "code",
   "execution_count": 41,
   "source": [
    "w_ads[0]"
   ],
   "outputs": [
    {
     "output_type": "execute_result",
     "data": {
      "text/plain": [
       "[130208.33333333334,\n",
       " 133928.57142857142,\n",
       " 135416.66666666666,\n",
       " 136363.63636363635,\n",
       " 142857.14285714284,\n",
       " 145833.33333333334,\n",
       " 214285.71428571426,\n",
       " 229166.66666666666,\n",
       " 333333.3333333333,\n",
       " 476562.5,\n",
       " 253721,\n",
       " 274443,\n",
       " 461461,\n",
       " 463603,\n",
       " 503174,\n",
       " 522732,\n",
       " 580290,\n",
       " 587323,\n",
       " 664128,\n",
       " 801090]"
      ]
     },
     "metadata": {},
     "execution_count": 41
    }
   ],
   "metadata": {}
  },
  {
   "cell_type": "markdown",
   "source": [
    "## Show seleted bounding box\r\n",
    "* Green bounding box: discarded bouding box \r\n",
    "* Red bouding box: selected bouding box"
   ],
   "metadata": {}
  },
  {
   "cell_type": "code",
   "execution_count": 22,
   "source": [
    "import cv2\r\n",
    "import matplotlib.pyplot as plt"
   ],
   "outputs": [],
   "metadata": {}
  },
  {
   "cell_type": "code",
   "execution_count": 23,
   "source": [
    "ctpn_path = \"../data/dataset/ctpn_output/testing_data/\"\r\n",
    "image_ads_path = \"../data/dataset/training_data/ads/\"\r\n",
    "image_non_ads_path = \"../data/dataset/training_data/non_ads/\"\r\n",
    "store_path = \"./image_bounding_box/\""
   ],
   "outputs": [],
   "metadata": {}
  },
  {
   "cell_type": "code",
   "execution_count": 24,
   "source": [
    "def resize_image(img):\r\n",
    "    img_size = img.shape\r\n",
    "    im_size_min = np.min(img_size[0:2])\r\n",
    "    im_size_max = np.max(img_size[0:2])\r\n",
    "\r\n",
    "    im_scale = float(600) / float(im_size_min)\r\n",
    "    if np.round(im_scale * im_size_max) > 1200:\r\n",
    "        im_scale = float(1200) / float(im_size_max)\r\n",
    "    new_h = int(img_size[0] * im_scale)\r\n",
    "    new_w = int(img_size[1] * im_scale)\r\n",
    "\r\n",
    "    new_h = new_h if new_h // 16 == 0 else (new_h // 16 + 1) * 16\r\n",
    "    new_w = new_w if new_w // 16 == 0 else (new_w // 16 + 1) * 16\r\n",
    "\r\n",
    "    re_im = cv2.resize(img, (new_w, new_h), interpolation=cv2.INTER_LINEAR)\r\n",
    "    return re_im, (new_h / img_size[0], new_w / img_size[1])\r\n",
    "def draw_boudingbox(img,all_bb,red_bb):\r\n",
    "    img, (rh, rw) = resize_image(img)\r\n",
    "    for bb in all_bb:\r\n",
    "        if bb in red_bb:\r\n",
    "            bb_list = np.array([int(b) for b in bb.split(\",\")[:-1]])\r\n",
    "            cv2.polylines(img, [bb_list[:8].astype(np.int32).reshape((-1, 1, 2))], True, color=(0, 0, 255),\r\n",
    "                                  thickness=2)\r\n",
    "        else:\r\n",
    "            bb_list = np.array([int(b) for b in bb.split(\",\")[:-1]])\r\n",
    "            cv2.polylines(img, [bb_list[:8].astype(np.int32).reshape((-1, 1, 2))], True, color=(0, 255, 0),thickness=2)\r\n",
    "    img = cv2.resize(img, None, None, fx=1.0 / rh, fy=1.0 / rw, interpolation=cv2.INTER_LINEAR)\r\n",
    "    return img\r\n",
    "def show_image(n_img, img_name):\r\n",
    "    for i in range(n_img):\r\n",
    "        if \"ads\" == img_name[i][0][:3]:\r\n",
    "            all_bb = ads_data[ads_name.index(img_name[i][0])]\r\n",
    "            img = cv2.imread(image_ads_path+img_name[i][0][:-3] + \"png\")\r\n",
    "        else:\r\n",
    "            all_bb = non_ads_data[non_ads_name.index(img_name[i][0])]\r\n",
    "            img = cv2.imread(image_non_ads_path+img_name[i][0][:-3] + \"png\")\r\n",
    "        img = draw_boudingbox(img,all_bb,img_name[i][1])\r\n",
    "        cv2.imwrite(store_path + img_name[i][0][:-3] + \"png\", img)"
   ],
   "outputs": [],
   "metadata": {}
  },
  {
   "cell_type": "code",
   "execution_count": 25,
   "source": [
    "show_image(20,ads_name_filted)\r\n",
    "show_image(20,non_ads_name_filted)"
   ],
   "outputs": [],
   "metadata": {}
  },
  {
   "cell_type": "code",
   "execution_count": 127,
   "source": [
    "plt.imshow(img[:,:,::-1])"
   ],
   "outputs": [
    {
     "output_type": "execute_result",
     "data": {
      "text/plain": [
       "<matplotlib.image.AxesImage at 0x1dfb3d2cdc0>"
      ]
     },
     "metadata": {},
     "execution_count": 127
    },
    {
     "output_type": "display_data",
     "data": {
      "image/png": "[encoded data removed]",
      "text/plain": [
       "<Figure size 432x288 with 1 Axes>"
      ]
     },
     "metadata": {
      "needs_background": "light"
     }
    }
   ],
   "metadata": {}
  },
  {
   "cell_type": "code",
   "execution_count": 43,
   "source": [
    "X = w_ads + w_non_ads\r\n",
    "y = [0]*len(w_ads) + [1]*len(w_non_ads)\r\n"
   ],
   "outputs": [],
   "metadata": {}
  },
  {
   "cell_type": "markdown",
   "source": [
    "# Using Neural Netwwork"
   ],
   "metadata": {}
  },
  {
   "cell_type": "code",
   "execution_count": 30,
   "source": [
    "from keras.models import Sequential\r\n",
    "from keras.layers import Dense"
   ],
   "outputs": [],
   "metadata": {}
  },
  {
   "cell_type": "code",
   "execution_count": 31,
   "source": [
    "# define the keras model\r\n",
    "model =Sequential()\r\n",
    "model.add(Dense(16, input_dim=n_att, activation='relu'))\r\n",
    "model.add(Dense(12, activation='relu'))\r\n",
    "model.add(Dense(16, activation='relu'))\r\n",
    "model.add(Dense(8, activation='relu'))\r\n",
    "model.add(Dense(4, activation='relu'))\r\n",
    "model.add(Dense(1, activation='sigmoid'))"
   ],
   "outputs": [],
   "metadata": {}
  },
  {
   "cell_type": "code",
   "execution_count": 32,
   "source": [
    "# compile the keras model\r\n",
    "model.compile(loss='binary_crossentropy', optimizer='adam', metrics=['accuracy'])"
   ],
   "outputs": [],
   "metadata": {}
  },
  {
   "cell_type": "code",
   "execution_count": 33,
   "source": [
    "model.fit(X,y,epochs=10,batch_size=10)"
   ],
   "outputs": [
    {
     "output_type": "stream",
     "name": "stdout",
     "text": [
      "Epoch 1/10\n",
      "222/222 [==============================] - 1s 1ms/step - loss: 587.8297 - accuracy: 0.4932\n",
      "Epoch 2/10\n",
      "222/222 [==============================] - 0s 1ms/step - loss: 126.4844 - accuracy: 0.5221\n",
      "Epoch 3/10\n",
      "222/222 [==============================] - 0s 1ms/step - loss: 71.6799 - accuracy: 0.5284\n",
      "Epoch 4/10\n",
      "222/222 [==============================] - 0s 1ms/step - loss: 59.4030 - accuracy: 0.5131\n",
      "Epoch 5/10\n",
      "222/222 [==============================] - 0s 1ms/step - loss: 43.8039 - accuracy: 0.5086\n",
      "Epoch 6/10\n",
      "222/222 [==============================] - 0s 1ms/step - loss: 19.2368 - accuracy: 0.5261\n",
      "Epoch 7/10\n",
      "222/222 [==============================] - 0s 1ms/step - loss: 17.0076 - accuracy: 0.5122\n",
      "Epoch 8/10\n",
      "222/222 [==============================] - 0s 2ms/step - loss: 19.1769 - accuracy: 0.5054\n",
      "Epoch 9/10\n",
      "222/222 [==============================] - 0s 2ms/step - loss: 25.0327 - accuracy: 0.5257\n",
      "Epoch 10/10\n",
      "222/222 [==============================] - 0s 1ms/step - loss: 8.6387 - accuracy: 0.5451\n"
     ]
    },
    {
     "output_type": "execute_result",
     "data": {
      "text/plain": [
       "<keras.callbacks.History at 0x2083dbacdc0>"
      ]
     },
     "metadata": {},
     "execution_count": 33
    }
   ],
   "metadata": {}
  },
  {
   "cell_type": "code",
   "execution_count": 35,
   "source": [
    "predictions = model.predict(X[:5])\r\n",
    "# summarize the first 5 cases\r\n",
    "# for i in range(5):\r\n",
    "# \tprint('%s => %d (expected %d)' % (X[i].tolist(), predictions[i], y[i]))"
   ],
   "outputs": [],
   "metadata": {}
  },
  {
   "cell_type": "code",
   "execution_count": 37,
   "source": [
    "print(\"{}/{}\".format(sum(predictions < 0.5)[0], len(predictions)))\r\n",
    "print(sum(y[:5]))"
   ],
   "outputs": [
    {
     "output_type": "stream",
     "name": "stdout",
     "text": [
      "5/5\n",
      "0\n"
     ]
    }
   ],
   "metadata": {}
  },
  {
   "cell_type": "markdown",
   "source": [
    "#   Using SVM"
   ],
   "metadata": {}
  },
  {
   "cell_type": "code",
   "execution_count": 42,
   "source": [
    "from sklearn.svm import SVC\r\n",
    "from sklearn.model_selection import train_test_split\r\n",
    "from sklearn.preprocessing import LabelEncoder, StandardScaler\r\n",
    "import sklearn.metrics as metrics"
   ],
   "outputs": [],
   "metadata": {}
  },
  {
   "cell_type": "code",
   "execution_count": 44,
   "source": [
    "X_train , X_test, y_train, y_test = train_test_split(X,y,train_size=0.7)"
   ],
   "outputs": [],
   "metadata": {}
  },
  {
   "cell_type": "code",
   "execution_count": 45,
   "source": [
    "clf = SVC(C=1.0, kernel='rbf', probability=True).fit(X_train,y_train)\r\n",
    "clf.probability = True"
   ],
   "outputs": [],
   "metadata": {}
  },
  {
   "cell_type": "code",
   "execution_count": 46,
   "source": [
    "len(X_train)"
   ],
   "outputs": [
    {
     "output_type": "execute_result",
     "data": {
      "text/plain": [
       "1086"
      ]
     },
     "metadata": {},
     "execution_count": 46
    }
   ],
   "metadata": {}
  },
  {
   "cell_type": "code",
   "execution_count": 47,
   "source": [
    "y_pred = clf.predict(X_test)"
   ],
   "outputs": [],
   "metadata": {}
  },
  {
   "cell_type": "code",
   "execution_count": 48,
   "source": [
    "metrics.confusion_matrix(y_test,y_pred)"
   ],
   "outputs": [
    {
     "output_type": "execute_result",
     "data": {
      "text/plain": [
       "array([[228,  11],\n",
       "       [ 12, 215]], dtype=int64)"
      ]
     },
     "metadata": {},
     "execution_count": 48
    }
   ],
   "metadata": {}
  },
  {
   "cell_type": "code",
   "execution_count": 49,
   "source": [
    "metrics.accuracy_score(y_test,y_pred)"
   ],
   "outputs": [
    {
     "output_type": "execute_result",
     "data": {
      "text/plain": [
       "0.9506437768240343"
      ]
     },
     "metadata": {},
     "execution_count": 49
    }
   ],
   "metadata": {}
  },
  {
   "cell_type": "markdown",
   "source": [
    "## Save SVM support vectors"
   ],
   "metadata": {}
  },
  {
   "cell_type": "code",
   "execution_count": 35,
   "source": [
    "import joblib"
   ],
   "outputs": [],
   "metadata": {}
  },
  {
   "cell_type": "code",
   "execution_count": 36,
   "source": [
    "joblib.dump(clf, \"svm_phase_1.pkl\")"
   ],
   "outputs": [
    {
     "output_type": "execute_result",
     "data": {
      "text/plain": [
       "['svm_phase_1.pkl']"
      ]
     },
     "metadata": {},
     "execution_count": 36
    }
   ],
   "metadata": {}
  },
  {
   "cell_type": "markdown",
   "source": [
    "## Load SVM by joblid"
   ],
   "metadata": {}
  },
  {
   "cell_type": "code",
   "execution_count": 37,
   "source": [
    "clf2 = joblib.load(\"svm_phase_1.pkl\")"
   ],
   "outputs": [],
   "metadata": {}
  },
  {
   "cell_type": "code",
   "execution_count": 38,
   "source": [
    "r = clf2.predict(X_test)"
   ],
   "outputs": [],
   "metadata": {}
  },
  {
   "cell_type": "code",
   "execution_count": 39,
   "source": [
    "metrics.confusion_matrix(y_test, r)"
   ],
   "outputs": [
    {
     "output_type": "execute_result",
     "data": {
      "text/plain": [
       "array([[209,  42],\n",
       "       [ 36, 179]], dtype=int64)"
      ]
     },
     "metadata": {},
     "execution_count": 39
    }
   ],
   "metadata": {}
  }
 ],
 "metadata": {
  "orig_nbformat": 4,
  "language_info": {
   "name": "python",
   "version": "3.8.8",
   "mimetype": "text/x-python",
   "codemirror_mode": {
    "name": "ipython",
    "version": 3
   },
   "pygments_lexer": "ipython3",
   "nbconvert_exporter": "python",
   "file_extension": ".py"
  },
  "kernelspec": {
   "name": "python3",
   "display_name": "Python 3.8.8 64-bit ('base': conda)"
  },
  "interpreter": {
   "hash": "183bbf6827d058c2a2fb0f4acdc0420849dda2b4380af0e437e38c64d798d8b7"
  }
 },
 "nbformat": 4,
 "nbformat_minor": 2
}