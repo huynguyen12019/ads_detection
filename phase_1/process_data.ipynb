{
 "cells": [
  {
   "cell_type": "code",
   "execution_count": 1,
   "source": [
    "from os import walk\r\n",
    "import numpy as np\r\n",
    "import matplotlib.pyplot as plt\r\n",
    "import PIL"
   ],
   "outputs": [],
   "metadata": {}
  },
  {
   "cell_type": "code",
   "execution_count": 16,
   "source": [
    "# get link of ads and non ads images\r\n",
    "from os import walk\r\n",
    "\r\n",
    "mypath_ads  = [\r\n",
    "    \"../data/dataset/ctpn_output/ads\",\r\n",
    "]\r\n",
    "mypath_non_ads = [\r\n",
    "    \"../data/dataset/ctpn_output/non-ads\"\r\n",
    "]\r\n",
    "def get_text_file(path_arr):\r\n",
    "    filename = []\r\n",
    "    name = []\r\n",
    "    for path in path_arr:\r\n",
    "        f = []\r\n",
    "        for (dirpath, dirnames, filenames) in walk(path):\r\n",
    "            f.extend(filenames)\r\n",
    "            break\r\n",
    "        filename+=[f\"{path[1:]}/{i}\" for i in f if \"txt\" in i]\r\n",
    "        name+=[i for i in f if \"txt\" in i]\r\n",
    "    return filename,name"
   ],
   "outputs": [],
   "metadata": {}
  },
  {
   "cell_type": "code",
   "execution_count": 17,
   "source": [
    "ads, ads_name = get_text_file(mypath_ads)\r\n",
    "non_ads,non_ads_name = get_text_file(mypath_non_ads)"
   ],
   "outputs": [],
   "metadata": {}
  },
  {
   "cell_type": "markdown",
   "source": [
    "Thống kê đánh giá dữ liệu"
   ],
   "metadata": {}
  },
  {
   "cell_type": "code",
   "execution_count": 18,
   "source": [
    "ads_data = []\r\n",
    "for link in ads:\r\n",
    "    ads_data.append([i[:-1] for i in open(\".\"+ link,'r').readlines() if i !=\"\\n\"])\r\n",
    "non_ads_data = []\r\n",
    "for link in non_ads:\r\n",
    "    non_ads_data.append([i[:-1] for i in open(\".\"+ link,'r').readlines() if i !=\"\\n\"])\r\n",
    "# ads_data = np.array(ads_data)\r\n",
    "# non_ads_data = np.array(non_ads_data)\r\n"
   ],
   "outputs": [],
   "metadata": {}
  },
  {
   "cell_type": "code",
   "execution_count": 12,
   "source": [
    "len_ads_data = np.array([len(i) for i in ads_data])\r\n",
    "len_non_ads_data = np.array([len(i) for i in non_ads_data])\r\n",
    "bb_ads = [sum(len_ads_data>i) for i in range(10,40)]\r\n",
    "bb_non_ads = [sum(len_non_ads_data>i) for i in range(10,40)]\r\n"
   ],
   "outputs": [],
   "metadata": {}
  },
  {
   "cell_type": "code",
   "execution_count": 19,
   "source": [
    "plt.plot(range(10,40),bb_ads,label=\"demo\",)\r\n",
    "plt.plot(range(10,40),bb_non_ads)\r\n",
    "plt.title(\"Number of bouding box greater than 10 to 40\")\r\n",
    "plt.xlabel(\"number of bounding box\")\r\n",
    "plt.ylabel(\"number of image\")"
   ],
   "outputs": [
    {
     "output_type": "execute_result",
     "data": {
      "text/plain": [
       "Text(0, 0.5, 'number of image')"
      ]
     },
     "metadata": {},
     "execution_count": 19
    },
    {
     "output_type": "display_data",
     "data": {
      "image/png": "[encoded data removed]",
      "text/plain": [
       "<Figure size 432x288 with 1 Axes>"
      ]
     },
     "metadata": {
      "needs_background": "light"
     }
    }
   ],
   "metadata": {}
  },
  {
   "cell_type": "markdown",
   "source": [
    "Get 10 bouding box - 5 greatest and 5 smallest"
   ],
   "metadata": {}
  },
  {
   "cell_type": "markdown",
   "source": [
    "Get height and width of image"
   ],
   "metadata": {}
  },
  {
   "cell_type": "code",
   "execution_count": 21,
   "source": [
    "img_ads_path = \"../data/dataset/training_data/ads\"\r\n",
    "img_non_ads_path = \"../data/dataset/training_data/non_ads\"\r\n",
    "hw_ads = [PIL.Image.open(img_ads_path + \"/\" + name[:-3] + \"png\").size for name in ads_name]\r\n",
    "hw_non_ads = [PIL.Image.open(img_non_ads_path +\"/\"+ name[:-3] + \"png\").size for name in non_ads_name]"
   ],
   "outputs": [],
   "metadata": {}
  },
  {
   "cell_type": "markdown",
   "source": [
    "Set weight of images"
   ],
   "metadata": {}
  },
  {
   "cell_type": "markdown",
   "source": [
    "$$(H_b((|H_cb-H_c|+1)(|W_cb-W_c|+1)))/W_b$$"
   ],
   "metadata": {}
  },
  {
   "cell_type": "code",
   "execution_count": 24,
   "source": [
    "def extract_info(arr):\r\n",
    "    arr = [int(i) for i in arr.split(\",\")[:-1]]\r\n",
    "    h_b = arr[-1]-arr[1]\r\n",
    "    w_b = arr[2] - arr[0]\r\n",
    "    h_cb = (arr[-1]+arr[1])//2\r\n",
    "    w_cb = (arr[2]+arr[0])//2\r\n",
    "    return h_b,w_b,h_cb,w_cb"
   ],
   "outputs": [],
   "metadata": {}
  },
  {
   "cell_type": "code",
   "execution_count": 26,
   "source": [
    "extract_info(ads_data[0][0])"
   ],
   "outputs": [
    {
     "output_type": "execute_result",
     "data": {
      "text/plain": [
       "(19, 64, 393, 544)"
      ]
     },
     "metadata": {},
     "execution_count": 26
    }
   ],
   "metadata": {}
  },
  {
   "cell_type": "code",
   "execution_count": 27,
   "source": [
    "n_att = 10\r\n",
    "w_ads = []\r\n",
    "for bbs,hw in zip(ads_data,hw_ads):\r\n",
    "    if len(bbs) <n_att:\r\n",
    "        continue\r\n",
    "    temp = []\r\n",
    "    for bb in bbs:\r\n",
    "        h_b,w_b,h_cb,w_cb =extract_info(bb)\r\n",
    "        weight = (h_b*(abs(h_cb-hw[1])+1)*(abs(w_cb-hw[0])+1))/w_b\r\n",
    "        temp.append(weight)\r\n",
    "    temp = sorted(temp)\r\n",
    "    w_ads.append(temp[-n_att:])\r\n",
    "    # w_ads.append(temp[:5] + temp[-5:])\r\n",
    "w_non_ads = []\r\n",
    "for bbs,hw in zip(non_ads_data,hw_non_ads):\r\n",
    "    if len(bbs) <n_att:\r\n",
    "        continue\r\n",
    "    temp = []\r\n",
    "    for bb in bbs:\r\n",
    "        h_b,w_b,h_cb,w_cb =extract_info(bb)\r\n",
    "        weight = (h_b*(abs(h_cb-hw[1])+1)*(abs(w_cb-hw[0])+1))/w_b\r\n",
    "        temp.append(weight)\r\n",
    "    temp = sorted(temp)\r\n",
    "    w_non_ads.append(temp[-n_att:])\r\n",
    "    # w_non_ads.append(temp[:5] + temp[-5:])\r\n"
   ],
   "outputs": [],
   "metadata": {}
  },
  {
   "cell_type": "code",
   "execution_count": 28,
   "source": [
    "X = w_ads + w_non_ads\r\n",
    "y = [0]*len(w_ads) + [1]*len(w_non_ads)\r\n"
   ],
   "outputs": [],
   "metadata": {}
  },
  {
   "cell_type": "code",
   "execution_count": 29,
   "source": [
    "len(w_non_ads)"
   ],
   "outputs": [
    {
     "output_type": "execute_result",
     "data": {
      "text/plain": [
       "975"
      ]
     },
     "metadata": {},
     "execution_count": 29
    }
   ],
   "metadata": {}
  },
  {
   "cell_type": "markdown",
   "source": [
    "# Using Neural Netwwork"
   ],
   "metadata": {}
  },
  {
   "cell_type": "code",
   "execution_count": 30,
   "source": [
    "from keras.models import Sequential\r\n",
    "from keras.layers import Dense"
   ],
   "outputs": [],
   "metadata": {}
  },
  {
   "cell_type": "code",
   "execution_count": 31,
   "source": [
    "# define the keras model\r\n",
    "model =Sequential()\r\n",
    "model.add(Dense(16, input_dim=n_att, activation='relu'))\r\n",
    "model.add(Dense(12, activation='relu'))\r\n",
    "model.add(Dense(16, activation='relu'))\r\n",
    "model.add(Dense(8, activation='relu'))\r\n",
    "model.add(Dense(4, activation='relu'))\r\n",
    "model.add(Dense(1, activation='sigmoid'))"
   ],
   "outputs": [],
   "metadata": {}
  },
  {
   "cell_type": "code",
   "execution_count": 32,
   "source": [
    "# compile the keras model\r\n",
    "model.compile(loss='binary_crossentropy', optimizer='adam', metrics=['accuracy'])"
   ],
   "outputs": [],
   "metadata": {}
  },
  {
   "cell_type": "code",
   "execution_count": 33,
   "source": [
    "model.fit(X,y,epochs=10,batch_size=10)"
   ],
   "outputs": [
    {
     "output_type": "stream",
     "name": "stdout",
     "text": [
      "Epoch 1/10\n",
      "222/222 [==============================] - 1s 1ms/step - loss: 587.8297 - accuracy: 0.4932\n",
      "Epoch 2/10\n",
      "222/222 [==============================] - 0s 1ms/step - loss: 126.4844 - accuracy: 0.5221\n",
      "Epoch 3/10\n",
      "222/222 [==============================] - 0s 1ms/step - loss: 71.6799 - accuracy: 0.5284\n",
      "Epoch 4/10\n",
      "222/222 [==============================] - 0s 1ms/step - loss: 59.4030 - accuracy: 0.5131\n",
      "Epoch 5/10\n",
      "222/222 [==============================] - 0s 1ms/step - loss: 43.8039 - accuracy: 0.5086\n",
      "Epoch 6/10\n",
      "222/222 [==============================] - 0s 1ms/step - loss: 19.2368 - accuracy: 0.5261\n",
      "Epoch 7/10\n",
      "222/222 [==============================] - 0s 1ms/step - loss: 17.0076 - accuracy: 0.5122\n",
      "Epoch 8/10\n",
      "222/222 [==============================] - 0s 2ms/step - loss: 19.1769 - accuracy: 0.5054\n",
      "Epoch 9/10\n",
      "222/222 [==============================] - 0s 2ms/step - loss: 25.0327 - accuracy: 0.5257\n",
      "Epoch 10/10\n",
      "222/222 [==============================] - 0s 1ms/step - loss: 8.6387 - accuracy: 0.5451\n"
     ]
    },
    {
     "output_type": "execute_result",
     "data": {
      "text/plain": [
       "<keras.callbacks.History at 0x2083dbacdc0>"
      ]
     },
     "metadata": {},
     "execution_count": 33
    }
   ],
   "metadata": {}
  },
  {
   "cell_type": "code",
   "execution_count": 35,
   "source": [
    "predictions = model.predict(X[:5])\r\n",
    "# summarize the first 5 cases\r\n",
    "# for i in range(5):\r\n",
    "# \tprint('%s => %d (expected %d)' % (X[i].tolist(), predictions[i], y[i]))"
   ],
   "outputs": [],
   "metadata": {}
  },
  {
   "cell_type": "code",
   "execution_count": 37,
   "source": [
    "print(\"{}/{}\".format(sum(predictions < 0.5)[0], len(predictions)))\r\n",
    "print(sum(y[:5]))"
   ],
   "outputs": [
    {
     "output_type": "stream",
     "name": "stdout",
     "text": [
      "5/5\n",
      "0\n"
     ]
    }
   ],
   "metadata": {}
  },
  {
   "cell_type": "markdown",
   "source": [
    "#   Using SVM"
   ],
   "metadata": {}
  },
  {
   "cell_type": "code",
   "execution_count": 34,
   "source": [
    "from sklearn.svm import SVC\r\n",
    "from sklearn.model_selection import train_test_split\r\n",
    "from sklearn.preprocessing import LabelEncoder, StandardScaler\r\n",
    "import sklearn.metrics as metrics"
   ],
   "outputs": [],
   "metadata": {}
  },
  {
   "cell_type": "code",
   "execution_count": 35,
   "source": [
    "X_train , X_test, y_train, y_test = train_test_split(X,y,train_size=0.7)"
   ],
   "outputs": [],
   "metadata": {}
  },
  {
   "cell_type": "code",
   "execution_count": 36,
   "source": [
    "clf = SVC(C=1.0, kernel='rbf').fit(X_train,y_train)"
   ],
   "outputs": [],
   "metadata": {}
  },
  {
   "cell_type": "code",
   "execution_count": 37,
   "source": [
    "len(X_train)"
   ],
   "outputs": [
    {
     "output_type": "execute_result",
     "data": {
      "text/plain": [
       "1552"
      ]
     },
     "metadata": {},
     "execution_count": 37
    }
   ],
   "metadata": {}
  },
  {
   "cell_type": "code",
   "execution_count": 38,
   "source": [
    "y_pred = clf.predict(X_test)"
   ],
   "outputs": [],
   "metadata": {}
  },
  {
   "cell_type": "code",
   "execution_count": 39,
   "source": [
    "metrics.confusion_matrix(y_test,y_pred)"
   ],
   "outputs": [
    {
     "output_type": "execute_result",
     "data": {
      "text/plain": [
       "array([[307,  75],\n",
       "       [ 51, 233]], dtype=int64)"
      ]
     },
     "metadata": {},
     "execution_count": 39
    }
   ],
   "metadata": {}
  },
  {
   "cell_type": "code",
   "execution_count": 40,
   "source": [
    "accuracy = 0\r\n",
    "for i in range(len(y_pred)):\r\n",
    "    accuracy += y_pred[i] == y_test[i]\r\n",
    "print(\"accuracy:{}  {}/{}\".format(accuracy/len(y_pred),accuracy, len(y_pred)))"
   ],
   "outputs": [
    {
     "output_type": "stream",
     "name": "stdout",
     "text": [
      "accuracy:0.8108108108108109  540/666\n"
     ]
    }
   ],
   "metadata": {}
  },
  {
   "cell_type": "code",
   "execution_count": 43,
   "source": [
    "len(hw_non_ads)"
   ],
   "outputs": [
    {
     "output_type": "execute_result",
     "data": {
      "text/plain": [
       "981"
      ]
     },
     "metadata": {},
     "execution_count": 43
    }
   ],
   "metadata": {}
  },
  {
   "cell_type": "markdown",
   "source": [
    "## Save SVM support vectors"
   ],
   "metadata": {}
  },
  {
   "cell_type": "code",
   "execution_count": 47,
   "source": [
    "import joblib"
   ],
   "outputs": [],
   "metadata": {}
  },
  {
   "cell_type": "code",
   "execution_count": 48,
   "source": [
    "joblib.dump(clf, \"svm_phase_1.pkl\")"
   ],
   "outputs": [
    {
     "output_type": "execute_result",
     "data": {
      "text/plain": [
       "['svm_phase_1.pkl']"
      ]
     },
     "metadata": {},
     "execution_count": 48
    }
   ],
   "metadata": {}
  },
  {
   "cell_type": "markdown",
   "source": [
    "## Load SVM by joblid"
   ],
   "metadata": {}
  },
  {
   "cell_type": "code",
   "execution_count": 50,
   "source": [
    "clf2 = joblib.load(\"svm_phase_1.pkl\")"
   ],
   "outputs": [],
   "metadata": {}
  },
  {
   "cell_type": "code",
   "execution_count": 51,
   "source": [
    "r = clf2.predict(X_test)"
   ],
   "outputs": [],
   "metadata": {}
  },
  {
   "cell_type": "code",
   "execution_count": 55,
   "source": [
    "metrics.confusion_matrix(y_test, r)"
   ],
   "outputs": [
    {
     "output_type": "execute_result",
     "data": {
      "text/plain": [
       "array([[307,  75],\n",
       "       [ 51, 233]], dtype=int64)"
      ]
     },
     "metadata": {},
     "execution_count": 55
    }
   ],
   "metadata": {}
  }
 ],
 "metadata": {
  "orig_nbformat": 4,
  "language_info": {
   "name": "python",
   "version": "3.8.8",
   "mimetype": "text/x-python",
   "codemirror_mode": {
    "name": "ipython",
    "version": 3
   },
   "pygments_lexer": "ipython3",
   "nbconvert_exporter": "python",
   "file_extension": ".py"
  },
  "kernelspec": {
   "name": "python3",
   "display_name": "Python 3.8.8 64-bit ('base': conda)"
  },
  "interpreter": {
   "hash": "183bbf6827d058c2a2fb0f4acdc0420849dda2b4380af0e437e38c64d798d8b7"
  }
 },
 "nbformat": 4,
 "nbformat_minor": 2
}